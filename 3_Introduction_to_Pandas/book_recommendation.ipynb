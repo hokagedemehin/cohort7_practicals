{
 "cells": [
  {
   "cell_type": "markdown",
   "metadata": {},
   "source": [
    "# Book Recommendations Dataset"
   ]
  },
  {
   "cell_type": "markdown",
   "metadata": {},
   "source": [
    "This notebook uses the [Book Recommendations](https://www.kaggle.com/arashnic/book-recommendation-dataset) dataset available on Kaggle. "
   ]
  },
  {
   "cell_type": "markdown",
   "metadata": {},
   "source": [
    "## Imports"
   ]
  },
  {
   "cell_type": "code",
   "execution_count": 54,
   "metadata": {},
   "outputs": [
    {
     "data": {
      "text/plain": [
       "WindowsPath('C:/Users/User/Documents/GitHub/cohort7_practicals/3_Introduction_to_Pandas/archive/Books.csv')"
      ]
     },
     "execution_count": 54,
     "metadata": {},
     "output_type": "execute_result"
    }
   ],
   "source": [
    "# TODO: Import any other modules you need\n",
    "import pandas as pd\n",
    "import numpy as np\n",
    "from pathlib import Path, PurePath\n",
    "\n",
    "Path(\"__file__\").parent.resolve() / \"archive/Books.csv\"\n",
    "# PurePath.parent(Path(\"__file__\").parent.resolve)\n",
    "# PurePath.joinpath(Path(\"__file__\").parent, \"/acives\")"
   ]
  },
  {
   "cell_type": "code",
   "execution_count": 60,
   "metadata": {},
   "outputs": [
    {
     "name": "stderr",
     "output_type": "stream",
     "text": [
      "C:\\Users\\User\\.virtualenvs\\3_Introduction_to_Pandas-OKSNLkmC\\lib\\site-packages\\IPython\\core\\interactiveshell.py:3444: DtypeWarning: Columns (3) have mixed types.Specify dtype option on import or set low_memory=False.\n",
      "  exec(code_obj, self.user_global_ns, self.user_ns)\n"
     ]
    }
   ],
   "source": [
    "# TODO: Read Books.csv, Ratings.csv and Users.csv into similary named dataframes\n",
    "ratings = pd.read_csv(Path(\"__file__\").parent.resolve() / \"archive/Ratings.csv\")\n",
    "users = pd.read_csv(Path(\"__file__\").parent.resolve() / \"archive/Users.csv\")\n",
    "books = pd.read_csv(Path(\"__file__\").parent.resolve() / \"archive/Books.csv\")"
   ]
  },
  {
   "cell_type": "code",
   "execution_count": 62,
   "metadata": {},
   "outputs": [
    {
     "data": {
      "text/plain": [
       "(271360, 8)"
      ]
     },
     "execution_count": 62,
     "metadata": {},
     "output_type": "execute_result"
    }
   ],
   "source": [
    "books.shape"
   ]
  },
  {
   "cell_type": "code",
   "execution_count": 63,
   "metadata": {},
   "outputs": [
    {
     "name": "stdout",
     "output_type": "stream",
     "text": [
      "<class 'pandas.core.frame.DataFrame'>\n",
      "RangeIndex: 271360 entries, 0 to 271359\n",
      "Data columns (total 8 columns):\n",
      " #   Column               Non-Null Count   Dtype \n",
      "---  ------               --------------   ----- \n",
      " 0   ISBN                 271360 non-null  object\n",
      " 1   Book-Title           271360 non-null  object\n",
      " 2   Book-Author          271359 non-null  object\n",
      " 3   Year-Of-Publication  271360 non-null  object\n",
      " 4   Publisher            271358 non-null  object\n",
      " 5   Image-URL-S          271360 non-null  object\n",
      " 6   Image-URL-M          271360 non-null  object\n",
      " 7   Image-URL-L          271357 non-null  object\n",
      "dtypes: object(8)\n",
      "memory usage: 16.6+ MB\n"
     ]
    }
   ],
   "source": [
    "books.info()"
   ]
  },
  {
   "cell_type": "code",
   "execution_count": 64,
   "metadata": {},
   "outputs": [
    {
     "data": {
      "text/plain": [
       "ISBN                   object\n",
       "Book-Title             object\n",
       "Book-Author            object\n",
       "Year-Of-Publication    object\n",
       "Publisher              object\n",
       "Image-URL-S            object\n",
       "Image-URL-M            object\n",
       "Image-URL-L            object\n",
       "dtype: object"
      ]
     },
     "execution_count": 64,
     "metadata": {},
     "output_type": "execute_result"
    }
   ],
   "source": [
    "books.dtypes"
   ]
  },
  {
   "cell_type": "code",
   "execution_count": null,
   "metadata": {},
   "outputs": [],
   "source": [
    "# a function that will run all the values in a column and give the index or the row that has the different dtype that is making the column an object. work on this tomorrow"
   ]
  },
  {
   "cell_type": "code",
   "execution_count": 66,
   "metadata": {},
   "outputs": [
    {
     "data": {
      "text/plain": [
       "array(['Classical Mythology', 'Clara Callan', 'Decision in Normandy', ...,\n",
       "       'Lily Dale : The True Story of the Town that Talks to the Dead',\n",
       "       \"Republic (World's Classics)\",\n",
       "       \"A Guided Tour of Rene Descartes' Meditations on First Philosophy with Complete Translations of the Meditations by Ronald Rubin\"],\n",
       "      dtype=object)"
      ]
     },
     "execution_count": 66,
     "metadata": {},
     "output_type": "execute_result"
    }
   ],
   "source": [
    "books['Book-Title'].unique()"
   ]
  },
  {
   "cell_type": "markdown",
   "metadata": {},
   "source": [
    "## Exploratory Data Analysis (EDA)"
   ]
  },
  {
   "cell_type": "markdown",
   "metadata": {},
   "source": [
    "### TODO: \n",
    "* Use the `describe` and `info` methods on each of your dataframes. \n",
    "* Check the `dtypes` for the columns in each dataframe.\n",
    "* Check for missing values in each dataframe\n",
    "* Check for any other operations commonly used during EDA and perform it here"
   ]
  },
  {
   "cell_type": "markdown",
   "metadata": {},
   "source": [
    "## Fact-Finding"
   ]
  },
  {
   "cell_type": "markdown",
   "metadata": {},
   "source": [
    "You may need to apply the `groupby` method here. Here's a great introduction: [Pandas GroupBy: Your Guide to Grouping Data in Python](https://realpython.com/pandas-groupby/).\n",
    "### TODO: \n",
    "* Group the `ratings` dataframe by `User-ID` and check the `average` rating by user.\n",
    "* Group the `ratings` dataframe by `ISBN` and check the `average` rating each book has gotten.\n",
    "* Create a `Series` containing the number of books each user has read\n",
    "* Who are the top 10 most rated authors?\n",
    "* Who are the top 10 highest rated authors?"
   ]
  },
  {
   "cell_type": "markdown",
   "metadata": {},
   "source": [
    "## Engineering"
   ]
  },
  {
   "cell_type": "markdown",
   "metadata": {},
   "source": [
    "### TODO: \n",
    "* Apply the `to_datetime` method to the `Year-of-Publication` `inplace`. \n",
    "* Use the `drop` method to drop all the `Image` columns in the `books` dataframe.\n",
    "* Read this article - [How to Split String Column in Pandas into Multiple Columns](https://www.statology.org/pandas-split-column/) then apply the method to split the `location` column into three columns `city`, `state`, `country`.\n",
    "* Which other `str` methods are available in pandas? Try out one or two others. \n",
    "* Merge the `ratings` and `books` dataframe into one dataframe named `books_and_ratings`\n",
    "* Merge the `books_and_ratings` dataset and the `users` dataframe into a dataframe named `user_preferences`"
   ]
  },
  {
   "cell_type": "markdown",
   "metadata": {},
   "source": [
    "## Querying and Indexing "
   ]
  },
  {
   "cell_type": "markdown",
   "metadata": {},
   "source": [
    "Here's a useful article:\n",
    "* [The Unreasonable Effectiveness of Method Chaining in Pandas](https://towardsdatascience.com/the-unreasonable-effectiveness-of-method-chaining-in-pandas-15c2109e3c69)"
   ]
  },
  {
   "cell_type": "markdown",
   "metadata": {},
   "source": [
    "### TODO:\n",
    "* Use the `query` method to return rows from the `user_preferences` dataframe where `User-ID` is equal to `276822`\n",
    "* Repeat the same operation as before but this time return rows where `ISBN` is equal to `0345260317`\n",
    "* Return rows where the `ISBN` is equal to `0345260317` and `Book-Rating` is greater than 0.\n",
    "* Repeat all the operations performed above using the `loc` method rather than `query`\n",
    "* Time the operation of both methods (See [Profiling and Timing Code](https://jakevdp.github.io/PythonDataScienceHandbook/01.07-timing-and-profiling.html)). Which is faster?\n",
    "* Use the `to_dict` method to convert the output of query to dictionary. \n",
    "* Write a function that takes in a `dataframe` and a `user_id` and returns a dictionary of rows with matching user ids. Test your function using the `user_preferences` dataframe and any user id in the data."
   ]
  },
  {
   "cell_type": "markdown",
   "metadata": {},
   "source": [
    "### Hierarchical Indexing"
   ]
  },
  {
   "cell_type": "markdown",
   "metadata": {},
   "source": [
    "Study the [Hierarchical Indexing](https://jakevdp.github.io/PythonDataScienceHandbook/03.05-hierarchical-indexing.html) chapter from Python Data Science Handbook."
   ]
  },
  {
   "cell_type": "markdown",
   "metadata": {},
   "source": [
    "### TODO\n",
    "* Include 3 or 4 of your observations in the `Comments` below after exploring the dataset"
   ]
  },
  {
   "cell_type": "markdown",
   "metadata": {},
   "source": [
    "### Comments\n",
    "* "
   ]
  }
 ],
 "metadata": {
  "interpreter": {
   "hash": "3184cd5f36fe63bd7ebc19334d93cded430f62d32f1d8a15630f922fffae6f40"
  },
  "kernelspec": {
   "display_name": "Python 3.9.2 64-bit ('3_Introduction_to_Pandas-OKSNLkmC': pipenv)",
   "name": "python3"
  },
  "language_info": {
   "codemirror_mode": {
    "name": "ipython",
    "version": 3
   },
   "file_extension": ".py",
   "mimetype": "text/x-python",
   "name": "python",
   "nbconvert_exporter": "python",
   "pygments_lexer": "ipython3",
   "version": "3.9.2"
  },
  "orig_nbformat": 4
 },
 "nbformat": 4,
 "nbformat_minor": 2
}
