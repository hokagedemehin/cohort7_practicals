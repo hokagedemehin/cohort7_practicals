{
 "cells": [
  {
   "cell_type": "markdown",
   "source": [
    "##  Parsing HTML with BeautifulSoup"
   ],
   "metadata": {
    "collapsed": true,
    "pycharm": {
     "name": "#%% md\n"
    }
   }
  },
  {
   "cell_type": "markdown",
   "source": [
    "BeautifulSoup is a Python library for extracting data from HTML or XML files. Refer to the [documentation](https://www.crummy.com/software/BeautifulSoup/bs4/doc/) for more information. "
   ],
   "metadata": {}
  },
  {
   "cell_type": "code",
   "execution_count": null,
   "source": [
    "# pipenv shell"
   ],
   "outputs": [],
   "metadata": {}
  },
  {
   "cell_type": "code",
   "execution_count": 1,
   "source": [
    "import requests\r\n",
    "from bs4 import BeautifulSoup"
   ],
   "outputs": [],
   "metadata": {
    "pycharm": {
     "name": "#%%\n"
    }
   }
  },
  {
   "cell_type": "code",
   "execution_count": 2,
   "source": [
    "url = \"https://www.bbc.com/pidgin/topics/c2dwqd1zr92t\""
   ],
   "outputs": [],
   "metadata": {
    "pycharm": {
     "name": "#%%\n"
    }
   }
  },
  {
   "cell_type": "code",
   "execution_count": 3,
   "source": [
    "response = requests.get(url)\r\n",
    "print(dir(response))   # dir allows us to check the methods available for an object"
   ],
   "outputs": [
    {
     "output_type": "stream",
     "name": "stdout",
     "text": [
      "['__attrs__', '__bool__', '__class__', '__delattr__', '__dict__', '__dir__', '__doc__', '__enter__', '__eq__', '__exit__', '__format__', '__ge__', '__getattribute__', '__getstate__', '__gt__', '__hash__', '__init__', '__init_subclass__', '__iter__', '__le__', '__lt__', '__module__', '__ne__', '__new__', '__nonzero__', '__reduce__', '__reduce_ex__', '__repr__', '__setattr__', '__setstate__', '__sizeof__', '__str__', '__subclasshook__', '__weakref__', '_content', '_content_consumed', '_next', 'apparent_encoding', 'close', 'connection', 'content', 'cookies', 'elapsed', 'encoding', 'headers', 'history', 'is_permanent_redirect', 'is_redirect', 'iter_content', 'iter_lines', 'json', 'links', 'next', 'ok', 'raise_for_status', 'raw', 'reason', 'request', 'status_code', 'text', 'url']\n"
     ]
    }
   ],
   "metadata": {
    "pycharm": {
     "name": "#%%\n"
    },
    "scrolled": true
   }
  },
  {
   "cell_type": "code",
   "execution_count": null,
   "source": [
    "page_html = response.content\r\n",
    "print(page_html)"
   ],
   "outputs": [],
   "metadata": {
    "pycharm": {
     "name": "#%%\n"
    },
    "scrolled": true
   }
  },
  {
   "cell_type": "code",
   "execution_count": 7,
   "source": [
    "print(type(page_html))   # Without bs4, we obtain a string object which is tedious to interact with"
   ],
   "outputs": [
    {
     "output_type": "stream",
     "name": "stdout",
     "text": [
      "<class 'bytes'>\n"
     ]
    }
   ],
   "metadata": {
    "pycharm": {
     "name": "#%%\n"
    }
   }
  },
  {
   "cell_type": "code",
   "execution_count": null,
   "source": [
    "page_soup = BeautifulSoup(page_html, \"html.parser\") \r\n",
    "print(\"type: \",type(page_soup))\r\n",
    "print(f\"page soup: {page_soup}\")"
   ],
   "outputs": [],
   "metadata": {
    "pycharm": {
     "name": "#%%\n"
    }
   }
  },
  {
   "cell_type": "markdown",
   "source": [
    "BeautifulSoup allows us to use a variety of parsers. You can check this out :) "
   ],
   "metadata": {}
  },
  {
   "cell_type": "code",
   "execution_count": 20,
   "source": [
    "print(len(page_soup))  # we get a rich list of methods available for our BeautifulSoup object"
   ],
   "outputs": [
    {
     "output_type": "stream",
     "name": "stdout",
     "text": [
      "3\n"
     ]
    }
   ],
   "metadata": {
    "pycharm": {
     "name": "#%%\n"
    },
    "scrolled": true
   }
  },
  {
   "cell_type": "markdown",
   "source": [
    "**`TODO`**: Complete the `get_page_soup` function in `scraper.py`"
   ],
   "metadata": {}
  },
  {
   "cell_type": "markdown",
   "source": [
    "## Locating elements"
   ],
   "metadata": {}
  },
  {
   "cell_type": "markdown",
   "source": [
    "### 1. Locating elements by tag"
   ],
   "metadata": {}
  },
  {
   "cell_type": "code",
   "execution_count": 10,
   "source": [
    "all_urls = page_soup.findAll(\"a\")"
   ],
   "outputs": [],
   "metadata": {
    "pycharm": {
     "name": "#%%\n"
    }
   }
  },
  {
   "cell_type": "code",
   "execution_count": 11,
   "source": [
    "print(len(all_urls))"
   ],
   "outputs": [
    {
     "output_type": "stream",
     "name": "stdout",
     "text": [
      "90\n"
     ]
    }
   ],
   "metadata": {
    "pycharm": {
     "name": "#%%\n"
    }
   }
  },
  {
   "cell_type": "code",
   "execution_count": 12,
   "source": [
    "print(type(all_urls[0]))"
   ],
   "outputs": [
    {
     "output_type": "stream",
     "name": "stdout",
     "text": [
      "<class 'bs4.element.Tag'>\n"
     ]
    }
   ],
   "metadata": {
    "pycharm": {
     "name": "#%%\n"
    }
   }
  },
  {
   "cell_type": "code",
   "execution_count": null,
   "source": [
    "print(dir(all_urls[0]))"
   ],
   "outputs": [],
   "metadata": {
    "pycharm": {
     "name": "#%%\n"
    }
   }
  },
  {
   "cell_type": "code",
   "execution_count": 14,
   "source": [
    "all_urls[0].get(\"href\")     # hrefs may be absolute"
   ],
   "outputs": [
    {
     "output_type": "execute_result",
     "data": {
      "text/plain": [
       "'https://www.bbc.co.uk'"
      ]
     },
     "metadata": {},
     "execution_count": 14
    }
   ],
   "metadata": {}
  },
  {
   "cell_type": "code",
   "execution_count": 15,
   "source": [
    "all_urls[12].get(\"href\")     # hrefs may also be relative"
   ],
   "outputs": [
    {
     "output_type": "execute_result",
     "data": {
      "text/plain": [
       "'/pidgin/topics/c2dwqd1zr92t'"
      ]
     },
     "metadata": {},
     "execution_count": 15
    }
   ],
   "metadata": {}
  },
  {
   "cell_type": "code",
   "execution_count": 16,
   "source": [
    "all_urls"
   ],
   "outputs": [
    {
     "output_type": "execute_result",
     "data": {
      "text/plain": [
       "[<a href=\"https://www.bbc.co.uk\">Homepage</a>,\n",
       " <a href=\"#main-content\">Waka go wetin de inside</a>,\n",
       " <a href=\"https://www.bbc.co.uk/accessibility/\" id=\"orb-accessibility-help\">Help to enter</a>,\n",
       " <a href=\"https://www.bbc.com/news\">News</a>,\n",
       " <a href=\"https://www.bbc.com/sport\">Sport</a>,\n",
       " <a href=\"https://www.bbc.com/weather\">Weather</a>,\n",
       " <a href=\"https://www.bbc.co.uk/worldserviceradio\">Radio</a>,\n",
       " <a href=\"https://www.bbc.co.uk/arts\">Arts</a>,\n",
       " <a class=\"istats-notrack\" data-alt=\"Plenti\" href=\"#orb-footer\">Menu<span class=\"orb-icon orb-icon-arrow\"></span></a>,\n",
       " <a class=\"gs-u-pv\" href=\"/pidgin\" id=\"brand\"><span><svg viewbox=\"0 0 150 23\" xmlns=\"http://www.w3.org/2000/svg\"><title>BBC News Pidgin</title><g fill=\"#fff\"><path class=\"cls-1\" d=\"M12.5 3.54h2.14v15.78H12.7L2.15 7.17v12.15H.02V3.54h1.83L12.5 15.8V3.54zM18.72 3.54h8.94v2.01h-6.68v4.81h6.46v2.03h-6.46v4.9h6.9v2.01h-9.16V3.54zM51.78 3.54h2.26l-6.39 15.85h-.49L42 6.56l-5.22 12.83h-.48L29.93 3.54h2.28l4.35 10.88 4.38-10.88h2.14l4.4 10.88 4.3-10.88zM60.16 12.71l-1.72-1a7.81 7.81 0 0 1-2.3-1.94 3.68 3.68 0 0 1-.68-2.2 3.88 3.88 0 0 1 1.29-3 4.84 4.84 0 0 1 3.36-1.16 6.36 6.36 0 0 1 3.63 1.11V7a5.23 5.23 0 0 0-3.67-1.64 3 3 0 0 0-1.82.51 1.56 1.56 0 0 0-.71 1.31 2 2 0 0 0 .52 1.33 6.59 6.59 0 0 0 1.69 1.3l1.73 1q2.89 1.72 2.89 4.39a4 4 0 0 1-1.27 3.08 4.65 4.65 0 0 1-3.31 1.19 6.94 6.94 0 0 1-4.26-1.44V15.2a5.32 5.32 0 0 0 4.24 2.32 2.66 2.66 0 0 0 1.77-.59 1.86 1.86 0 0 0 .71-1.48q0-1.44-2.08-2.73zM99.72 7.83h-1.56v3.31h1.66a2.1 2.1 0 0 0 1.42-.44 1.56 1.56 0 0 0 .5-1.25q0-1.63-2-1.63zm-3.09 9.24V6.48H100a3.46 3.46 0 0 1 2.41.82 2.82 2.82 0 0 1 .9 2.19 2.93 2.93 0 0 1-.46 1.63 2.63 2.63 0 0 1-1.26 1 6.43 6.43 0 0 1-2.3.32h-1.13v4.59zM105.45 6.5h1.51v10.57h-1.51V6.5zM113.64 7.85h-1.89v7.86h1.94a7.75 7.75 0 0 0 1.76-.16 4.13 4.13 0 0 0 1-.39 3.58 3.58 0 0 0 .77-.59 3.92 3.92 0 0 0 1.12-2.87 3.63 3.63 0 0 0-1.15-2.78 3.68 3.68 0 0 0-1-.66 4.06 4.06 0 0 0-1-.34 10.56 10.56 0 0 0-1.58-.08zm-3.4 9.21V6.5h3.56a7.51 7.51 0 0 1 3.41.65 4.88 4.88 0 0 1 2 1.9 5.28 5.28 0 0 1 .74 2.74 5.17 5.17 0 0 1-.41 2 5.24 5.24 0 0 1-3 2.85 5.35 5.35 0 0 1-1.1.31 14.66 14.66 0 0 1-1.91.08zM128.25 11.86h3.55v4.48a9.67 9.67 0 0 1-3.87.85 5.75 5.75 0 0 1-4.2-1.53 5.07 5.07 0 0 1-1.57-3.78 5.26 5.26 0 0 1 1.63-3.94 5.63 5.63 0 0 1 4.08-1.57 7.22 7.22 0 0 1 1.7.19 13.82 13.82 0 0 1 2 .71v1.54a7.43 7.43 0 0 0-3.75-1.1 4 4 0 0 0-2.92 1.18 3.93 3.93 0 0 0-1.19 2.9 3.9 3.9 0 0 0 1.19 2.94 4.23 4.23 0 0 0 3.1 1.15 7.12 7.12 0 0 0 2.17-.42h.14v-2.2h-2v-1.4zM134.95 6.5h1.52v10.57h-1.52V6.5zM148.11 6.5h1.44v10.57h-1.3l-7.07-8.14v8.14h-1.43V6.5h1.23l7.13 8.21V6.5z\"></path><path class=\"cls-2\" d=\"M79.83.2v22.6\" stroke=\"#fff\" stroke-miterlimit=\"10\" stroke-width=\"2\"></path></g></svg></span><span class=\"gs-u-vh\">BBC Pidgin</span></a>,\n",
       " <a aria-expanded=\"false\" aria-haspopup=\"true\" class=\"gs-u-display-none@m gs-u-float-right nw-c-nav__narrow-headerbutton nw-c-nav__narrow-headerbutton--closed\" href=\"#core-navigation\" id=\"nw-c-core-navigation-link\" role=\"button\"><span class=\"nw-c-nav__sections-hamburger\"></span><span class=\"gs-u-vh\">Plenti seshon</span></a>,\n",
       " <a class=\"nw-o-link\" href=\"/pidgin\"><span>Home</span></a>,\n",
       " <a class=\"nw-o-link\" href=\"/pidgin/topics/c2dwqd1zr92t\"><span>Nigeria</span></a>,\n",
       " <a class=\"nw-o-link\" href=\"/pidgin/topics/c404v061z85t\"><span>Africa</span></a>,\n",
       " <a class=\"nw-o-link\" href=\"/pidgin/topics/c0823e52dd0t\"><span>World</span></a>,\n",
       " <a class=\"nw-o-link\" href=\"/pidgin/media/video\"><span>Video</span></a>,\n",
       " <a class=\"nw-o-link\" href=\"/pidgin/topics/cjgn7gv77vrt\"><span>Sport</span></a>,\n",
       " <a class=\"nw-o-link\" href=\"/pidgin/topics/cqywjyzk2vyt\"><span>Entertainment</span></a>,\n",
       " <a class=\"nw-o-link\" href=\"/pidgin/popular/read\"><span>Most popular</span></a>,\n",
       " <a class=\"nw-o-link\" href=\"/pidgin\"><span class=\"\">Home</span></a>,\n",
       " <a class=\"nw-o-link\" href=\"/pidgin/topics/c2dwqd1zr92t\"><span class=\"\">Nigeria</span></a>,\n",
       " <a class=\"nw-o-link\" href=\"/pidgin/topics/c404v061z85t\"><span class=\"\">Africa</span></a>,\n",
       " <a class=\"nw-o-link\" href=\"/pidgin/topics/c0823e52dd0t\"><span class=\"\">World</span></a>,\n",
       " <a class=\"nw-o-link\" href=\"/pidgin/media/video\"><span class=\"\">Video</span></a>,\n",
       " <a class=\"nw-o-link\" href=\"/pidgin/topics/cjgn7gv77vrt\"><span class=\"\">Sport</span></a>,\n",
       " <a class=\"nw-o-link\" href=\"/pidgin/topics/cqywjyzk2vyt\"><span class=\"\">Entertainment</span></a>,\n",
       " <a class=\"nw-o-link\" href=\"/pidgin/popular/read\"><span class=\"\">Most popular</span></a>,\n",
       " <a class=\"qa-heading-link lx-stream-post__header-link\" data-reactid=\".1z8hokhfap4.1.0.1.1.1.1:$post-58745492.0.4.1.0.1\" href=\"/pidgin/tori-58745492\"><span class=\"lx-stream-post__header-text gs-u-align-middle\" data-reactid=\".1z8hokhfap4.1.0.1.1.1.1:$post-58745492.0.4.1.0.1.0\" id=\"title_58745492\">DSS deny killing of Dr Chike Akunyili</span></a>,\n",
       " <a class=\"qa-story-image-link\" data-reactid=\".1z8hokhfap4.1.0.1.1.1.1:$post-58745492.0.6.0.0.0\" href=\"/pidgin/tori-58745492\"><div class=\"lx-stream-related-story--index-image-wrapper qa-story-image-wrapper\" data-reactid=\".1z8hokhfap4.1.0.1.1.1.1:$post-58745492.0.6.0.0.0.0\"><img alt=\"Dora Akunyili husband: DSS don deny killing of Dr Chike Akunyili\" class=\"qa-srcset-image lx-stream-related-story--index-image qa-story-image\" data-reactid=\".1z8hokhfap4.1.0.1.1.1.1:$post-58745492.0.6.0.0.0.0.0\" sizes=\"(min-width: 900px) 50vw, (min-width: 600px) 70vw, 100vw\" src=\"https://ichef.bbci.co.uk/live-experience/cps/320/cpsprodpb/34D3/production/_120732531_242772814_396538618701610_6161676255473017092_n.jpg\" srcset=\"https://ichef.bbci.co.uk/live-experience/cps/240/cpsprodpb/34D3/production/_120732531_242772814_396538618701610_6161676255473017092_n.jpg 240w, https://ichef.bbci.co.uk/live-experience/cps/320/cpsprodpb/34D3/production/_120732531_242772814_396538618701610_6161676255473017092_n.jpg 320w, https://ichef.bbci.co.uk/live-experience/cps/480/cpsprodpb/34D3/production/_120732531_242772814_396538618701610_6161676255473017092_n.jpg 480w, https://ichef.bbci.co.uk/live-experience/cps/624/cpsprodpb/34D3/production/_120732531_242772814_396538618701610_6161676255473017092_n.jpg 624w, https://ichef.bbci.co.uk/live-experience/cps/800/cpsprodpb/34D3/production/_120732531_242772814_396538618701610_6161676255473017092_n.jpg 800w\"/></div></a>,\n",
       " <a class=\"qa-story-cta-link\" data-reactid=\".1z8hokhfap4.1.0.1.1.1.1:$post-58745492.0.6.0.1.2\" href=\"/pidgin/tori-58745492\"><span class=\"gs-o-button lx-stream-related-story--cta-button gel-long-primer-bold qa-story-text-cta\" data-reactid=\".1z8hokhfap4.1.0.1.1.1.1:$post-58745492.0.6.0.1.2.0\"><span class=\"lx-stream-related-story--cta-text\" data-reactid=\".1z8hokhfap4.1.0.1.1.1.1:$post-58745492.0.6.0.1.2.0.0\">Read More</span><div class=\"gel-icon gel-icon--next\" data-reactid=\".1z8hokhfap4.1.0.1.1.1.1:$post-58745492.0.6.0.1.2.0.1\"><svg data-reactid=\".1z8hokhfap4.1.0.1.1.1.1:$post-58745492.0.6.0.1.2.0.1.0\" viewbox=\"0 0 32 32\"><title data-reactid=\".1z8hokhfap4.1.0.1.1.1.1:$post-58745492.0.6.0.1.2.0.1.0.0\">next</title><path d=\"M29 16L3 0v7.2L17.6 16 3 24.8V32l26-16z\" data-reactid=\".1z8hokhfap4.1.0.1.1.1.1:$post-58745492.0.6.0.1.2.0.1.0.1\"></path></svg></div></span></a>,\n",
       " <a aria-label=\"Read more about externally sharing BBC Content\" class=\"gs-c-share-tools__button gs-c-share-tools__button--link\" data-reactid=\".1z8hokhfap4.1.0.1.1.1.1:$post-58745492.0.7.1.1.2.0.1.1.1.0\" href=\"https://www.bbc.co.uk/usingthebbc/terms/can-i-share-things-from-the-bbc\">Read more about these links.</a>,\n",
       " <a class=\"qa-heading-link lx-stream-post__header-link\" data-reactid=\".1z8hokhfap4.1.0.1.1.1.1:$post-58738377.0.4.1.0.1\" href=\"/pidgin/tori-58738377\"><span class=\"lx-stream-post__header-text gs-u-align-middle\" data-reactid=\".1z8hokhfap4.1.0.1.1.1.1:$post-58738377.0.4.1.0.1.0\" id=\"title_58738377\">Dora Akunyili husband death plus timeline of odas wey die on di same 'bloody' day in separate attacks for Anambra</span></a>,\n",
       " <a class=\"qa-story-image-link\" data-reactid=\".1z8hokhfap4.1.0.1.1.1.1:$post-58738377.0.6.0.0.0\" href=\"/pidgin/tori-58738377\"><div class=\"lx-stream-related-story--index-image-wrapper qa-story-image-wrapper\" data-reactid=\".1z8hokhfap4.1.0.1.1.1.1:$post-58738377.0.6.0.0.0.0\"><img alt=\"Police dey inspect incidents site\" class=\"qa-srcset-image lx-stream-related-story--index-image qa-story-image\" data-reactid=\".1z8hokhfap4.1.0.1.1.1.1:$post-58738377.0.6.0.0.0.0.0\" sizes=\"(min-width: 900px) 50vw, (min-width: 600px) 70vw, 100vw\" src=\"https://ichef.bbci.co.uk/live-experience/cps/320/cpsprodpb/8092/production/_120741923_e8e017ce-9cc7-4f9d-ba5d-e77e2bd1551e.jpg\" srcset=\"https://ichef.bbci.co.uk/live-experience/cps/240/cpsprodpb/8092/production/_120741923_e8e017ce-9cc7-4f9d-ba5d-e77e2bd1551e.jpg 240w, https://ichef.bbci.co.uk/live-experience/cps/320/cpsprodpb/8092/production/_120741923_e8e017ce-9cc7-4f9d-ba5d-e77e2bd1551e.jpg 320w, https://ichef.bbci.co.uk/live-experience/cps/480/cpsprodpb/8092/production/_120741923_e8e017ce-9cc7-4f9d-ba5d-e77e2bd1551e.jpg 480w, https://ichef.bbci.co.uk/live-experience/cps/624/cpsprodpb/8092/production/_120741923_e8e017ce-9cc7-4f9d-ba5d-e77e2bd1551e.jpg 624w, https://ichef.bbci.co.uk/live-experience/cps/800/cpsprodpb/8092/production/_120741923_e8e017ce-9cc7-4f9d-ba5d-e77e2bd1551e.jpg 800w\"/></div></a>,\n",
       " <a class=\"qa-story-cta-link\" data-reactid=\".1z8hokhfap4.1.0.1.1.1.1:$post-58738377.0.6.0.1.2\" href=\"/pidgin/tori-58738377\"><span class=\"gs-o-button lx-stream-related-story--cta-button gel-long-primer-bold qa-story-text-cta\" data-reactid=\".1z8hokhfap4.1.0.1.1.1.1:$post-58738377.0.6.0.1.2.0\"><span class=\"lx-stream-related-story--cta-text\" data-reactid=\".1z8hokhfap4.1.0.1.1.1.1:$post-58738377.0.6.0.1.2.0.0\">Read More</span><div class=\"gel-icon gel-icon--next\" data-reactid=\".1z8hokhfap4.1.0.1.1.1.1:$post-58738377.0.6.0.1.2.0.1\"><svg data-reactid=\".1z8hokhfap4.1.0.1.1.1.1:$post-58738377.0.6.0.1.2.0.1.0\" viewbox=\"0 0 32 32\"><title data-reactid=\".1z8hokhfap4.1.0.1.1.1.1:$post-58738377.0.6.0.1.2.0.1.0.0\">next</title><path d=\"M29 16L3 0v7.2L17.6 16 3 24.8V32l26-16z\" data-reactid=\".1z8hokhfap4.1.0.1.1.1.1:$post-58738377.0.6.0.1.2.0.1.0.1\"></path></svg></div></span></a>,\n",
       " <a aria-label=\"Read more about externally sharing BBC Content\" class=\"gs-c-share-tools__button gs-c-share-tools__button--link\" data-reactid=\".1z8hokhfap4.1.0.1.1.1.1:$post-58738377.0.7.1.1.2.0.1.1.1.0\" href=\"https://www.bbc.co.uk/usingthebbc/terms/can-i-share-things-from-the-bbc\">Read more about these links.</a>,\n",
       " <a class=\"qa-heading-link lx-stream-post__header-link\" data-reactid=\".1z8hokhfap4.1.0.1.1.1.1:$post-58709437.0.4.1.0.1\" href=\"/pidgin/tori-58709437\"><span class=\"lx-stream-post__header-text gs-u-align-middle\" data-reactid=\".1z8hokhfap4.1.0.1.1.1.1:$post-58709437.0.4.1.0.1.0\" id=\"title_58709437\">FG approve two weeks paternity leave for men</span></a>,\n",
       " <a class=\"qa-story-image-link\" data-reactid=\".1z8hokhfap4.1.0.1.1.1.1:$post-58709437.0.6.0.0.0\" href=\"/pidgin/tori-58709437\"><div class=\"lx-stream-related-story--index-image-wrapper qa-story-image-wrapper\" data-reactid=\".1z8hokhfap4.1.0.1.1.1.1:$post-58709437.0.6.0.0.0.0\"><img alt=\"Papa and im ew born pikin inside hospital.\" class=\"qa-srcset-image lx-stream-related-story--index-image qa-story-image\" data-reactid=\".1z8hokhfap4.1.0.1.1.1.1:$post-58709437.0.6.0.0.0.0.0\" sizes=\"(min-width: 900px) 50vw, (min-width: 600px) 70vw, 100vw\" src=\"https://ichef.bbci.co.uk/live-experience/cps/320/cpsprodpb/11CD8/production/_105102927_bbc.jpg\" srcset=\"https://ichef.bbci.co.uk/live-experience/cps/240/cpsprodpb/11CD8/production/_105102927_bbc.jpg 240w, https://ichef.bbci.co.uk/live-experience/cps/320/cpsprodpb/11CD8/production/_105102927_bbc.jpg 320w, https://ichef.bbci.co.uk/live-experience/cps/480/cpsprodpb/11CD8/production/_105102927_bbc.jpg 480w, https://ichef.bbci.co.uk/live-experience/cps/624/cpsprodpb/11CD8/production/_105102927_bbc.jpg 624w, https://ichef.bbci.co.uk/live-experience/cps/800/cpsprodpb/11CD8/production/_105102927_bbc.jpg 800w\"/></div></a>,\n",
       " <a class=\"qa-story-cta-link\" data-reactid=\".1z8hokhfap4.1.0.1.1.1.1:$post-58709437.0.6.0.1.2\" href=\"/pidgin/tori-58709437\"><span class=\"gs-o-button lx-stream-related-story--cta-button gel-long-primer-bold qa-story-text-cta\" data-reactid=\".1z8hokhfap4.1.0.1.1.1.1:$post-58709437.0.6.0.1.2.0\"><span class=\"lx-stream-related-story--cta-text\" data-reactid=\".1z8hokhfap4.1.0.1.1.1.1:$post-58709437.0.6.0.1.2.0.0\">Read More</span><div class=\"gel-icon gel-icon--next\" data-reactid=\".1z8hokhfap4.1.0.1.1.1.1:$post-58709437.0.6.0.1.2.0.1\"><svg data-reactid=\".1z8hokhfap4.1.0.1.1.1.1:$post-58709437.0.6.0.1.2.0.1.0\" viewbox=\"0 0 32 32\"><title data-reactid=\".1z8hokhfap4.1.0.1.1.1.1:$post-58709437.0.6.0.1.2.0.1.0.0\">next</title><path d=\"M29 16L3 0v7.2L17.6 16 3 24.8V32l26-16z\" data-reactid=\".1z8hokhfap4.1.0.1.1.1.1:$post-58709437.0.6.0.1.2.0.1.0.1\"></path></svg></div></span></a>,\n",
       " <a aria-label=\"Read more about externally sharing BBC Content\" class=\"gs-c-share-tools__button gs-c-share-tools__button--link\" data-reactid=\".1z8hokhfap4.1.0.1.1.1.1:$post-58709437.0.7.1.1.2.0.1.1.1.0\" href=\"https://www.bbc.co.uk/usingthebbc/terms/can-i-share-things-from-the-bbc\">Read more about these links.</a>,\n",
       " <a class=\"qa-heading-link lx-stream-post__header-link\" data-reactid=\".1z8hokhfap4.1.0.1.1.1.1:$post-58736254.0.4.1.0.1\" href=\"/pidgin/tori-58736254\"><span class=\"lx-stream-post__header-text gs-u-align-middle\" data-reactid=\".1z8hokhfap4.1.0.1.1.1.1:$post-58736254.0.4.1.0.1.0\" id=\"title_58736254\">Five tins we sabi about Dora Akunyili husband death</span></a>,\n",
       " <a class=\"qa-story-image-link\" data-reactid=\".1z8hokhfap4.1.0.1.1.1.1:$post-58736254.0.6.0.0.0\" href=\"/pidgin/tori-58736254\"><div class=\"lx-stream-related-story--index-image-wrapper qa-story-image-wrapper\" data-reactid=\".1z8hokhfap4.1.0.1.1.1.1:$post-58736254.0.6.0.0.0.0\"><img alt=\"Chike Akunyili\" class=\"qa-srcset-image lx-stream-related-story--index-image qa-story-image\" data-reactid=\".1z8hokhfap4.1.0.1.1.1.1:$post-58736254.0.6.0.0.0.0.0\" sizes=\"(min-width: 900px) 50vw, (min-width: 600px) 70vw, 100vw\" src=\"https://ichef.bbci.co.uk/live-experience/cps/320/cpsprodpb/EBAD/production/_120733306_23891e19-78b9-45a9-9736-52add0c133d0.jpg\" srcset=\"https://ichef.bbci.co.uk/live-experience/cps/240/cpsprodpb/EBAD/production/_120733306_23891e19-78b9-45a9-9736-52add0c133d0.jpg 240w, https://ichef.bbci.co.uk/live-experience/cps/320/cpsprodpb/EBAD/production/_120733306_23891e19-78b9-45a9-9736-52add0c133d0.jpg 320w, https://ichef.bbci.co.uk/live-experience/cps/480/cpsprodpb/EBAD/production/_120733306_23891e19-78b9-45a9-9736-52add0c133d0.jpg 480w, https://ichef.bbci.co.uk/live-experience/cps/624/cpsprodpb/EBAD/production/_120733306_23891e19-78b9-45a9-9736-52add0c133d0.jpg 624w, https://ichef.bbci.co.uk/live-experience/cps/800/cpsprodpb/EBAD/production/_120733306_23891e19-78b9-45a9-9736-52add0c133d0.jpg 800w\"/></div></a>,\n",
       " <a class=\"qa-story-cta-link\" data-reactid=\".1z8hokhfap4.1.0.1.1.1.1:$post-58736254.0.6.0.1.2\" href=\"/pidgin/tori-58736254\"><span class=\"gs-o-button lx-stream-related-story--cta-button gel-long-primer-bold qa-story-text-cta\" data-reactid=\".1z8hokhfap4.1.0.1.1.1.1:$post-58736254.0.6.0.1.2.0\"><span class=\"lx-stream-related-story--cta-text\" data-reactid=\".1z8hokhfap4.1.0.1.1.1.1:$post-58736254.0.6.0.1.2.0.0\">Read More</span><div class=\"gel-icon gel-icon--next\" data-reactid=\".1z8hokhfap4.1.0.1.1.1.1:$post-58736254.0.6.0.1.2.0.1\"><svg data-reactid=\".1z8hokhfap4.1.0.1.1.1.1:$post-58736254.0.6.0.1.2.0.1.0\" viewbox=\"0 0 32 32\"><title data-reactid=\".1z8hokhfap4.1.0.1.1.1.1:$post-58736254.0.6.0.1.2.0.1.0.0\">next</title><path d=\"M29 16L3 0v7.2L17.6 16 3 24.8V32l26-16z\" data-reactid=\".1z8hokhfap4.1.0.1.1.1.1:$post-58736254.0.6.0.1.2.0.1.0.1\"></path></svg></div></span></a>,\n",
       " <a aria-label=\"Read more about externally sharing BBC Content\" class=\"gs-c-share-tools__button gs-c-share-tools__button--link\" data-reactid=\".1z8hokhfap4.1.0.1.1.1.1:$post-58736254.0.7.1.1.2.0.1.1.1.0\" href=\"https://www.bbc.co.uk/usingthebbc/terms/can-i-share-things-from-the-bbc\">Read more about these links.</a>,\n",
       " <a class=\"qa-heading-link lx-stream-post__header-link\" data-reactid=\".1z8hokhfap4.1.0.1.1.1.1:$post-58732508.0.4.1.0.1\" href=\"/pidgin/tori-58732508\"><span class=\"lx-stream-post__header-text gs-u-align-middle\" data-reactid=\".1z8hokhfap4.1.0.1.1.1.1:$post-58732508.0.4.1.0.1.0\" id=\"title_58732508\">Osun police reveal latest on Iragbiji bank robbery</span></a>,\n",
       " <a class=\"qa-story-image-link\" data-reactid=\".1z8hokhfap4.1.0.1.1.1.1:$post-58732508.0.6.0.0.0\" href=\"/pidgin/tori-58732508\"><div class=\"lx-stream-related-story--index-image-wrapper qa-story-image-wrapper\" data-reactid=\".1z8hokhfap4.1.0.1.1.1.1:$post-58732508.0.6.0.0.0.0\"><img alt=\"Nigeria Police\" class=\"qa-srcset-image lx-stream-related-story--index-image qa-story-image\" data-reactid=\".1z8hokhfap4.1.0.1.1.1.1:$post-58732508.0.6.0.0.0.0.0\" sizes=\"(min-width: 900px) 50vw, (min-width: 600px) 70vw, 100vw\" src=\"https://ichef.bbci.co.uk/live-experience/cps/320/cpsprodpb/6D70/production/_106261082_gettyimages-1125065202.jpg\" srcset=\"https://ichef.bbci.co.uk/live-experience/cps/240/cpsprodpb/6D70/production/_106261082_gettyimages-1125065202.jpg 240w, https://ichef.bbci.co.uk/live-experience/cps/320/cpsprodpb/6D70/production/_106261082_gettyimages-1125065202.jpg 320w, https://ichef.bbci.co.uk/live-experience/cps/480/cpsprodpb/6D70/production/_106261082_gettyimages-1125065202.jpg 480w, https://ichef.bbci.co.uk/live-experience/cps/624/cpsprodpb/6D70/production/_106261082_gettyimages-1125065202.jpg 624w, https://ichef.bbci.co.uk/live-experience/cps/800/cpsprodpb/6D70/production/_106261082_gettyimages-1125065202.jpg 800w\"/></div></a>,\n",
       " <a class=\"qa-story-cta-link\" data-reactid=\".1z8hokhfap4.1.0.1.1.1.1:$post-58732508.0.6.0.1.2\" href=\"/pidgin/tori-58732508\"><span class=\"gs-o-button lx-stream-related-story--cta-button gel-long-primer-bold qa-story-text-cta\" data-reactid=\".1z8hokhfap4.1.0.1.1.1.1:$post-58732508.0.6.0.1.2.0\"><span class=\"lx-stream-related-story--cta-text\" data-reactid=\".1z8hokhfap4.1.0.1.1.1.1:$post-58732508.0.6.0.1.2.0.0\">Read More</span><div class=\"gel-icon gel-icon--next\" data-reactid=\".1z8hokhfap4.1.0.1.1.1.1:$post-58732508.0.6.0.1.2.0.1\"><svg data-reactid=\".1z8hokhfap4.1.0.1.1.1.1:$post-58732508.0.6.0.1.2.0.1.0\" viewbox=\"0 0 32 32\"><title data-reactid=\".1z8hokhfap4.1.0.1.1.1.1:$post-58732508.0.6.0.1.2.0.1.0.0\">next</title><path d=\"M29 16L3 0v7.2L17.6 16 3 24.8V32l26-16z\" data-reactid=\".1z8hokhfap4.1.0.1.1.1.1:$post-58732508.0.6.0.1.2.0.1.0.1\"></path></svg></div></span></a>,\n",
       " <a aria-label=\"Read more about externally sharing BBC Content\" class=\"gs-c-share-tools__button gs-c-share-tools__button--link\" data-reactid=\".1z8hokhfap4.1.0.1.1.1.1:$post-58732508.0.7.1.1.2.0.1.1.1.0\" href=\"https://www.bbc.co.uk/usingthebbc/terms/can-i-share-things-from-the-bbc\">Read more about these links.</a>,\n",
       " <a class=\"qa-heading-link lx-stream-post__header-link\" data-reactid=\".1z8hokhfap4.1.0.1.1.1.1:$post-58731043.0.4.1.0.1\" href=\"/pidgin/tori-58731043\"><span class=\"lx-stream-post__header-text gs-u-align-middle\" data-reactid=\".1z8hokhfap4.1.0.1.1.1.1:$post-58731043.0.4.1.0.1.0\" id=\"title_58731043\">Gunmen kill Chike Akunyili, husband of ex-DG of Nafdac</span></a>,\n",
       " <a class=\"qa-story-image-link\" data-reactid=\".1z8hokhfap4.1.0.1.1.1.1:$post-58731043.0.6.0.0.0\" href=\"/pidgin/tori-58731043\"><div class=\"lx-stream-related-story--index-image-wrapper qa-story-image-wrapper\" data-reactid=\".1z8hokhfap4.1.0.1.1.1.1:$post-58731043.0.6.0.0.0.0\"><img alt=\"Dr Chike Akunyili: Dora Akunyili husband die afta unknown gunmen shot am\" class=\"qa-srcset-image lx-stream-related-story--index-image qa-story-image\" data-reactid=\".1z8hokhfap4.1.0.1.1.1.1:$post-58731043.0.6.0.0.0.0.0\" sizes=\"(min-width: 900px) 50vw, (min-width: 600px) 70vw, 100vw\" src=\"https://ichef.bbci.co.uk/live-experience/cps/320/cpsprodpb/34D3/production/_120732531_242772814_396538618701610_6161676255473017092_n.jpg\" srcset=\"https://ichef.bbci.co.uk/live-experience/cps/240/cpsprodpb/34D3/production/_120732531_242772814_396538618701610_6161676255473017092_n.jpg 240w, https://ichef.bbci.co.uk/live-experience/cps/320/cpsprodpb/34D3/production/_120732531_242772814_396538618701610_6161676255473017092_n.jpg 320w, https://ichef.bbci.co.uk/live-experience/cps/480/cpsprodpb/34D3/production/_120732531_242772814_396538618701610_6161676255473017092_n.jpg 480w, https://ichef.bbci.co.uk/live-experience/cps/624/cpsprodpb/34D3/production/_120732531_242772814_396538618701610_6161676255473017092_n.jpg 624w, https://ichef.bbci.co.uk/live-experience/cps/800/cpsprodpb/34D3/production/_120732531_242772814_396538618701610_6161676255473017092_n.jpg 800w\"/></div></a>,\n",
       " <a class=\"qa-story-cta-link\" data-reactid=\".1z8hokhfap4.1.0.1.1.1.1:$post-58731043.0.6.0.1.2\" href=\"/pidgin/tori-58731043\"><span class=\"gs-o-button lx-stream-related-story--cta-button gel-long-primer-bold qa-story-text-cta\" data-reactid=\".1z8hokhfap4.1.0.1.1.1.1:$post-58731043.0.6.0.1.2.0\"><span class=\"lx-stream-related-story--cta-text\" data-reactid=\".1z8hokhfap4.1.0.1.1.1.1:$post-58731043.0.6.0.1.2.0.0\">Read More</span><div class=\"gel-icon gel-icon--next\" data-reactid=\".1z8hokhfap4.1.0.1.1.1.1:$post-58731043.0.6.0.1.2.0.1\"><svg data-reactid=\".1z8hokhfap4.1.0.1.1.1.1:$post-58731043.0.6.0.1.2.0.1.0\" viewbox=\"0 0 32 32\"><title data-reactid=\".1z8hokhfap4.1.0.1.1.1.1:$post-58731043.0.6.0.1.2.0.1.0.0\">next</title><path d=\"M29 16L3 0v7.2L17.6 16 3 24.8V32l26-16z\" data-reactid=\".1z8hokhfap4.1.0.1.1.1.1:$post-58731043.0.6.0.1.2.0.1.0.1\"></path></svg></div></span></a>,\n",
       " <a aria-label=\"Read more about externally sharing BBC Content\" class=\"gs-c-share-tools__button gs-c-share-tools__button--link\" data-reactid=\".1z8hokhfap4.1.0.1.1.1.1:$post-58731043.0.7.1.1.2.0.1.1.1.0\" href=\"https://www.bbc.co.uk/usingthebbc/terms/can-i-share-things-from-the-bbc\">Read more about these links.</a>,\n",
       " <a class=\"qa-heading-link lx-stream-post__header-link\" data-reactid=\".1z8hokhfap4.1.0.1.1.1.1:$post-58731038.0.4.1.0.1\" href=\"/pidgin/tori-58731038\"><span class=\"lx-stream-post__header-text gs-u-align-middle\" data-reactid=\".1z8hokhfap4.1.0.1.1.1.1:$post-58731038.0.4.1.0.1.0\" id=\"title_58731038\">How Pere win brand new car</span></a>,\n",
       " <a class=\"qa-story-image-link\" data-reactid=\".1z8hokhfap4.1.0.1.1.1.1:$post-58731038.0.6.0.0.0\" href=\"/pidgin/tori-58731038\"><div class=\"lx-stream-related-story--index-image-wrapper qa-story-image-wrapper\" data-reactid=\".1z8hokhfap4.1.0.1.1.1.1:$post-58731038.0.6.0.0.0.0\"><img alt=\"BBNaija: Pere win brand new innoson motor\" class=\"qa-srcset-image lx-stream-related-story--index-image qa-story-image\" data-reactid=\".1z8hokhfap4.1.0.1.1.1.1:$post-58731038.0.6.0.0.0.0.0\" sizes=\"(min-width: 900px) 50vw, (min-width: 600px) 70vw, 100vw\" src=\"https://ichef.bbci.co.uk/live-experience/cps/320/cpsprodpb/5CA1/production/_120731732_225171365_871562150152515_1226744051641996454_n.jpg\" srcset=\"https://ichef.bbci.co.uk/live-experience/cps/240/cpsprodpb/5CA1/production/_120731732_225171365_871562150152515_1226744051641996454_n.jpg 240w, https://ichef.bbci.co.uk/live-experience/cps/320/cpsprodpb/5CA1/production/_120731732_225171365_871562150152515_1226744051641996454_n.jpg 320w, https://ichef.bbci.co.uk/live-experience/cps/480/cpsprodpb/5CA1/production/_120731732_225171365_871562150152515_1226744051641996454_n.jpg 480w, https://ichef.bbci.co.uk/live-experience/cps/624/cpsprodpb/5CA1/production/_120731732_225171365_871562150152515_1226744051641996454_n.jpg 624w, https://ichef.bbci.co.uk/live-experience/cps/800/cpsprodpb/5CA1/production/_120731732_225171365_871562150152515_1226744051641996454_n.jpg 800w\"/></div></a>,\n",
       " <a class=\"qa-story-cta-link\" data-reactid=\".1z8hokhfap4.1.0.1.1.1.1:$post-58731038.0.6.0.1.2\" href=\"/pidgin/tori-58731038\"><span class=\"gs-o-button lx-stream-related-story--cta-button gel-long-primer-bold qa-story-text-cta\" data-reactid=\".1z8hokhfap4.1.0.1.1.1.1:$post-58731038.0.6.0.1.2.0\"><span class=\"lx-stream-related-story--cta-text\" data-reactid=\".1z8hokhfap4.1.0.1.1.1.1:$post-58731038.0.6.0.1.2.0.0\">Read More</span><div class=\"gel-icon gel-icon--next\" data-reactid=\".1z8hokhfap4.1.0.1.1.1.1:$post-58731038.0.6.0.1.2.0.1\"><svg data-reactid=\".1z8hokhfap4.1.0.1.1.1.1:$post-58731038.0.6.0.1.2.0.1.0\" viewbox=\"0 0 32 32\"><title data-reactid=\".1z8hokhfap4.1.0.1.1.1.1:$post-58731038.0.6.0.1.2.0.1.0.0\">next</title><path d=\"M29 16L3 0v7.2L17.6 16 3 24.8V32l26-16z\" data-reactid=\".1z8hokhfap4.1.0.1.1.1.1:$post-58731038.0.6.0.1.2.0.1.0.1\"></path></svg></div></span></a>,\n",
       " <a aria-label=\"Read more about externally sharing BBC Content\" class=\"gs-c-share-tools__button gs-c-share-tools__button--link\" data-reactid=\".1z8hokhfap4.1.0.1.1.1.1:$post-58731038.0.7.1.1.2.0.1.1.1.0\" href=\"https://www.bbc.co.uk/usingthebbc/terms/can-i-share-things-from-the-bbc\">Read more about these links.</a>,\n",
       " <a class=\"qa-heading-link lx-stream-post__header-link\" data-reactid=\".1z8hokhfap4.1.0.1.1.1.1:$post-58728160.0.4.1.0.1\" href=\"/pidgin/world-58728160\"><span class=\"lx-stream-post__header-text gs-u-align-middle\" data-reactid=\".1z8hokhfap4.1.0.1.1.1.1:$post-58728160.0.4.1.0.1.0\" id=\"title_58728160\">Nigeria lawmakers wan torchlight alleged fake Covid- 19 test accuse against Ghana</span></a>,\n",
       " <a class=\"qa-story-image-link\" data-reactid=\".1z8hokhfap4.1.0.1.1.1.1:$post-58728160.0.6.0.0.0\" href=\"/pidgin/world-58728160\"><div class=\"lx-stream-related-story--index-image-wrapper qa-story-image-wrapper\" data-reactid=\".1z8hokhfap4.1.0.1.1.1.1:$post-58728160.0.6.0.0.0.0\"><img alt=\"Nigerian senators to investigate alleged fraud\" class=\"qa-srcset-image lx-stream-related-story--index-image qa-story-image\" data-reactid=\".1z8hokhfap4.1.0.1.1.1.1:$post-58728160.0.6.0.0.0.0.0\" sizes=\"(min-width: 900px) 50vw, (min-width: 600px) 70vw, 100vw\" src=\"https://ichef.bbci.co.uk/live-experience/cps/320/cpsprodpb/BAA6/production/_120728774_314ad5fa-17b1-44da-8c22-1b0ab10d8955.jpg\" srcset=\"https://ichef.bbci.co.uk/live-experience/cps/240/cpsprodpb/BAA6/production/_120728774_314ad5fa-17b1-44da-8c22-1b0ab10d8955.jpg 240w, https://ichef.bbci.co.uk/live-experience/cps/320/cpsprodpb/BAA6/production/_120728774_314ad5fa-17b1-44da-8c22-1b0ab10d8955.jpg 320w, https://ichef.bbci.co.uk/live-experience/cps/480/cpsprodpb/BAA6/production/_120728774_314ad5fa-17b1-44da-8c22-1b0ab10d8955.jpg 480w, https://ichef.bbci.co.uk/live-experience/cps/624/cpsprodpb/BAA6/production/_120728774_314ad5fa-17b1-44da-8c22-1b0ab10d8955.jpg 624w, https://ichef.bbci.co.uk/live-experience/cps/800/cpsprodpb/BAA6/production/_120728774_314ad5fa-17b1-44da-8c22-1b0ab10d8955.jpg 800w\"/></div></a>,\n",
       " <a class=\"qa-story-cta-link\" data-reactid=\".1z8hokhfap4.1.0.1.1.1.1:$post-58728160.0.6.0.1.2\" href=\"/pidgin/world-58728160\"><span class=\"gs-o-button lx-stream-related-story--cta-button gel-long-primer-bold qa-story-text-cta\" data-reactid=\".1z8hokhfap4.1.0.1.1.1.1:$post-58728160.0.6.0.1.2.0\"><span class=\"lx-stream-related-story--cta-text\" data-reactid=\".1z8hokhfap4.1.0.1.1.1.1:$post-58728160.0.6.0.1.2.0.0\">Read More</span><div class=\"gel-icon gel-icon--next\" data-reactid=\".1z8hokhfap4.1.0.1.1.1.1:$post-58728160.0.6.0.1.2.0.1\"><svg data-reactid=\".1z8hokhfap4.1.0.1.1.1.1:$post-58728160.0.6.0.1.2.0.1.0\" viewbox=\"0 0 32 32\"><title data-reactid=\".1z8hokhfap4.1.0.1.1.1.1:$post-58728160.0.6.0.1.2.0.1.0.0\">next</title><path d=\"M29 16L3 0v7.2L17.6 16 3 24.8V32l26-16z\" data-reactid=\".1z8hokhfap4.1.0.1.1.1.1:$post-58728160.0.6.0.1.2.0.1.0.1\"></path></svg></div></span></a>,\n",
       " <a aria-label=\"Read more about externally sharing BBC Content\" class=\"gs-c-share-tools__button gs-c-share-tools__button--link\" data-reactid=\".1z8hokhfap4.1.0.1.1.1.1:$post-58728160.0.7.1.1.2.0.1.1.1.0\" href=\"https://www.bbc.co.uk/usingthebbc/terms/can-i-share-things-from-the-bbc\">Read more about these links.</a>,\n",
       " <a class=\"qa-heading-link lx-stream-post__header-link\" data-reactid=\".1z8hokhfap4.1.0.1.1.1.1:$post-58728151.0.4.1.0.1\" href=\"/pidgin/world-58728151\"><span class=\"lx-stream-post__header-text gs-u-align-middle\" data-reactid=\".1z8hokhfap4.1.0.1.1.1.1:$post-58728151.0.4.1.0.1.0\" id=\"title_58728151\">Forensic expert give evidence of how Baba Ijesha allegedly molest under-aged girl</span></a>,\n",
       " <a class=\"qa-story-image-link\" data-reactid=\".1z8hokhfap4.1.0.1.1.1.1:$post-58728151.0.6.0.0.0\" href=\"/pidgin/world-58728151\"><div class=\"lx-stream-related-story--index-image-wrapper qa-story-image-wrapper\" data-reactid=\".1z8hokhfap4.1.0.1.1.1.1:$post-58728151.0.6.0.0.0.0\"><img alt=\"File foto of Baba Ijesha for court\" class=\"qa-srcset-image lx-stream-related-story--index-image qa-story-image\" data-reactid=\".1z8hokhfap4.1.0.1.1.1.1:$post-58728151.0.6.0.0.0.0.0\" sizes=\"(min-width: 900px) 50vw, (min-width: 600px) 70vw, 100vw\" src=\"https://ichef.bbci.co.uk/live-experience/cps/320/cpsprodpb/15484/production/_120727178_7a5fd209-4c26-4ed3-905b-f4ec06ecc185.jpg\" srcset=\"https://ichef.bbci.co.uk/live-experience/cps/240/cpsprodpb/15484/production/_120727178_7a5fd209-4c26-4ed3-905b-f4ec06ecc185.jpg 240w, https://ichef.bbci.co.uk/live-experience/cps/320/cpsprodpb/15484/production/_120727178_7a5fd209-4c26-4ed3-905b-f4ec06ecc185.jpg 320w, https://ichef.bbci.co.uk/live-experience/cps/480/cpsprodpb/15484/production/_120727178_7a5fd209-4c26-4ed3-905b-f4ec06ecc185.jpg 480w, https://ichef.bbci.co.uk/live-experience/cps/624/cpsprodpb/15484/production/_120727178_7a5fd209-4c26-4ed3-905b-f4ec06ecc185.jpg 624w, https://ichef.bbci.co.uk/live-experience/cps/800/cpsprodpb/15484/production/_120727178_7a5fd209-4c26-4ed3-905b-f4ec06ecc185.jpg 800w\"/></div></a>,\n",
       " <a class=\"qa-story-cta-link\" data-reactid=\".1z8hokhfap4.1.0.1.1.1.1:$post-58728151.0.6.0.1.2\" href=\"/pidgin/world-58728151\"><span class=\"gs-o-button lx-stream-related-story--cta-button gel-long-primer-bold qa-story-text-cta\" data-reactid=\".1z8hokhfap4.1.0.1.1.1.1:$post-58728151.0.6.0.1.2.0\"><span class=\"lx-stream-related-story--cta-text\" data-reactid=\".1z8hokhfap4.1.0.1.1.1.1:$post-58728151.0.6.0.1.2.0.0\">Read More</span><div class=\"gel-icon gel-icon--next\" data-reactid=\".1z8hokhfap4.1.0.1.1.1.1:$post-58728151.0.6.0.1.2.0.1\"><svg data-reactid=\".1z8hokhfap4.1.0.1.1.1.1:$post-58728151.0.6.0.1.2.0.1.0\" viewbox=\"0 0 32 32\"><title data-reactid=\".1z8hokhfap4.1.0.1.1.1.1:$post-58728151.0.6.0.1.2.0.1.0.0\">next</title><path d=\"M29 16L3 0v7.2L17.6 16 3 24.8V32l26-16z\" data-reactid=\".1z8hokhfap4.1.0.1.1.1.1:$post-58728151.0.6.0.1.2.0.1.0.1\"></path></svg></div></span></a>,\n",
       " <a aria-label=\"Read more about externally sharing BBC Content\" class=\"gs-c-share-tools__button gs-c-share-tools__button--link\" data-reactid=\".1z8hokhfap4.1.0.1.1.1.1:$post-58728151.0.7.1.1.2.0.1.1.1.0\" href=\"https://www.bbc.co.uk/usingthebbc/terms/can-i-share-things-from-the-bbc\">Read more about these links.</a>,\n",
       " <a class=\"qa-heading-link lx-stream-post__header-link\" data-reactid=\".1z8hokhfap4.1.0.1.1.1.1:$post-58722650.0.4.1.0.1\" href=\"/pidgin/world-58722650\"><span class=\"lx-stream-post__header-text gs-u-align-middle\" data-reactid=\".1z8hokhfap4.1.0.1.1.1.1:$post-58722650.0.4.1.0.1.0\" id=\"title_58722650\">Corper wey female soja assault tok how e happun</span></a>,\n",
       " <a aria-label=\"Read more about externally sharing BBC Content\" class=\"gs-c-share-tools__button gs-c-share-tools__button--link\" data-reactid=\".1z8hokhfap4.1.0.1.1.1.1:$post-58722650.0.7.1.1.2.0.1.1.1.0\" href=\"https://www.bbc.co.uk/usingthebbc/terms/can-i-share-things-from-the-bbc\">Read more about these links.</a>,\n",
       " <a class=\"lx-pagination__btn gs-u-mr+ qa-pagination-next-page lx-pagination__btn--active\" data-reactid=\".1z8hokhfap4.1.0.1.2.0.2.0\" href=\"/pidgin/topics/c2dwqd1zr92t/page/2\" rel=\"next\"><span class=\"gs-u-vh qa-vh-navigation-next\" data-reactid=\".1z8hokhfap4.1.0.1.2.0.2.0.0\">Navigate to the next page</span><div aria-hidden=\"true\" class=\"lx-pagination__btn-icon\" data-reactid=\".1z8hokhfap4.1.0.1.2.0.2.0.1\"><div class=\"gel-icon gel-icon--next\" data-reactid=\".1z8hokhfap4.1.0.1.2.0.2.0.1.0\"><svg data-reactid=\".1z8hokhfap4.1.0.1.2.0.2.0.1.0.0\" viewbox=\"0 0 32 32\"><title data-reactid=\".1z8hokhfap4.1.0.1.2.0.2.0.1.0.0.0\">next</title><path d=\"M29 16L3 0v7.2L17.6 16 3 24.8V32l26-16z\" data-reactid=\".1z8hokhfap4.1.0.1.2.0.2.0.1.0.0.1\"></path></svg></div></div></a>,\n",
       " <a class=\"lx-pagination__btn qa-pagination-last-page lx-pagination__btn--active\" data-reactid=\".1z8hokhfap4.1.0.1.2.0.2.1\" href=\"/pidgin/topics/c2dwqd1zr92t/page/100\" rel=\"last\"><span class=\"gs-u-vh qa-vh-navigation-last\" data-reactid=\".1z8hokhfap4.1.0.1.2.0.2.1.0\">Navigate to the last page</span><div aria-hidden=\"true\" class=\"lx-pagination__btn-icon\" data-reactid=\".1z8hokhfap4.1.0.1.2.0.2.1.1\"><div class=\"gel-icon gel-icon--forward\" data-reactid=\".1z8hokhfap4.1.0.1.2.0.2.1.1.0\"><svg data-reactid=\".1z8hokhfap4.1.0.1.2.0.2.1.1.0.0\" viewbox=\"0 0 32 32\"><title data-reactid=\".1z8hokhfap4.1.0.1.2.0.2.1.1.0.0.0\">forward</title><path d=\"M27 0h3v32h-3zM27 16L2 32v-8.2L15.3 16 2 8.2V0l25 16z\" data-reactid=\".1z8hokhfap4.1.0.1.2.0.2.1.1.0.0.1\"></path></svg></div></div></a>,\n",
       " <a class=\"news-back-to-top-top-link nw-o-link gel-brevier\" href=\"#main-content\"><span class=\"news-back-to-top-top-link__icon gel-icon\"><svg><use xlink:href=\"#gel-icon-to-top\" xmlns:xlink=\"http://www.w3.org/1999/xlink\"></use></svg> </span><span class=\"news-back-to-top-top-link__text\">Go back on top</span></a>,\n",
       " <a class=\"nw-o-link\" href=\"/pidgin\"><span class=\"\">Home</span></a>,\n",
       " <a class=\"nw-o-link\" href=\"/pidgin/topics/c2dwqd1zr92t\"><span class=\"\">Nigeria</span></a>,\n",
       " <a class=\"nw-o-link\" href=\"/pidgin/topics/c404v061z85t\"><span class=\"\">Africa</span></a>,\n",
       " <a class=\"nw-o-link\" href=\"/pidgin/topics/c0823e52dd0t\"><span class=\"\">World</span></a>,\n",
       " <a class=\"nw-o-link\" href=\"/pidgin/media/video\"><span class=\"\">Video</span></a>,\n",
       " <a class=\"nw-o-link\" href=\"/pidgin/topics/cjgn7gv77vrt\"><span class=\"\">Sport</span></a>,\n",
       " <a class=\"nw-o-link\" href=\"/pidgin/topics/cqywjyzk2vyt\"><span class=\"\">Entertainment</span></a>,\n",
       " <a class=\"nw-o-link\" href=\"/pidgin/popular/read\"><span class=\"\">Most popular</span></a>,\n",
       " <a href=\"https://www.bbc.com/news\">News</a>,\n",
       " <a href=\"https://www.bbc.com/sport\">Sport</a>,\n",
       " <a href=\"https://www.bbc.com/weather\">Weather</a>,\n",
       " <a href=\"https://www.bbc.co.uk/worldserviceradio\">Radio</a>,\n",
       " <a href=\"https://www.bbc.co.uk/arts\">Arts</a>,\n",
       " <a href=\"https://www.bbc.co.uk/usingthebbc/terms/\">How dem dey take use am</a>,\n",
       " <a href=\"https://www.bbc.co.uk/aboutthebbc\">As e concern BBC</a>,\n",
       " <a href=\"https://www.bbc.co.uk/usingthebbc/privacy/\">Privacy Policy</a>,\n",
       " <a href=\"https://www.bbc.co.uk/usingthebbc/cookies/\">Cookies</a>,\n",
       " <a href=\"https://www.bbc.co.uk/accessibility/\">Help to enter</a>,\n",
       " <a href=\"https://www.bbc.co.uk/guidance\">Mama and papa de check</a>,\n",
       " <a href=\"https://www.bbc.com/pidgin/institutional-42188215\">Call BBC</a>,\n",
       " <a href=\"https://www.bbc.co.uk/bbcnewsletter\">Get Personalised Newsletters</a>,\n",
       " <a class=\"orb-hilight\" href=\"https://www.bbc.co.uk/editorialguidelines/guidance/feeds-and-links\">De way wey we de take go external link.</a>]"
      ]
     },
     "metadata": {},
     "execution_count": 16
    }
   ],
   "metadata": {}
  },
  {
   "cell_type": "markdown",
   "source": [
    "### 2. Locating elements by tag & class"
   ],
   "metadata": {}
  },
  {
   "cell_type": "markdown",
   "source": [
    "To obtain the class of an element ona web page, right click the element and select `Inspect`. \n",
    "\n",
    "![InspectElement](static/inspect_element.png)"
   ],
   "metadata": {}
  },
  {
   "cell_type": "code",
   "execution_count": null,
   "source": [
    "headline = page_soup.find(\r\n",
    "        \"h1\", attrs={\"class\": \"bbc-13dm3d0 e1yj3cbb0\"}\r\n",
    "        )"
   ],
   "outputs": [],
   "metadata": {}
  },
  {
   "cell_type": "markdown",
   "source": [
    "### How many pages of article are there in a category?\n",
    "**`TODO`**: Go to any of the category pages of BBC Pidgin. Can you retrieve the `class` of the `span` element that contains the number of total pages as text? In the picture below, for example, retrieve the `class` of the `span` that contains `100` as text. \n",
    "\n",
    "![PageNumber](static/PageNumber.png)"
   ],
   "metadata": {}
  },
  {
   "cell_type": "markdown",
   "source": [
    "## What is a valid article link?"
   ],
   "metadata": {}
  },
  {
   "cell_type": "markdown",
   "source": [
    "Website may have a pattern for successive pages in a category. This eases our work. Check through a number of articles. Do you notice a pattern to the article URLS?"
   ],
   "metadata": {}
  },
  {
   "cell_type": "code",
   "execution_count": 17,
   "source": [
    "for url in all_urls:\r\n",
    "    href = url.get(\"href\")\r\n",
    "    \r\n",
    "    if (href.startswith(\"/pidgin/tori\") or \\\r\n",
    "        href.startswith(\"pidgin/world\") or \\\r\n",
    "        href.startswith(\"pidgin/sport\")) and href[-1].isdigit():\r\n",
    "        print(href)"
   ],
   "outputs": [
    {
     "output_type": "stream",
     "name": "stdout",
     "text": [
      "/pidgin/tori-58745492\n",
      "/pidgin/tori-58745492\n",
      "/pidgin/tori-58745492\n",
      "/pidgin/tori-58738377\n",
      "/pidgin/tori-58738377\n",
      "/pidgin/tori-58738377\n",
      "/pidgin/tori-58709437\n",
      "/pidgin/tori-58709437\n",
      "/pidgin/tori-58709437\n",
      "/pidgin/tori-58736254\n",
      "/pidgin/tori-58736254\n",
      "/pidgin/tori-58736254\n",
      "/pidgin/tori-58732508\n",
      "/pidgin/tori-58732508\n",
      "/pidgin/tori-58732508\n",
      "/pidgin/tori-58731043\n",
      "/pidgin/tori-58731043\n",
      "/pidgin/tori-58731043\n",
      "/pidgin/tori-58731038\n",
      "/pidgin/tori-58731038\n",
      "/pidgin/tori-58731038\n"
     ]
    }
   ],
   "metadata": {
    "scrolled": true
   }
  },
  {
   "cell_type": "markdown",
   "source": [
    "valid_url = \"https://www.bbc.com\" + href"
   ],
   "metadata": {}
  },
  {
   "cell_type": "code",
   "execution_count": null,
   "source": [
    "base_url = \"https://www.bbc.com\""
   ],
   "outputs": [],
   "metadata": {}
  },
  {
   "cell_type": "code",
   "execution_count": null,
   "source": [
    "article = requests.get(# insert a valid URL here) \r\n",
    "# "
   ],
   "outputs": [],
   "metadata": {}
  },
  {
   "cell_type": "markdown",
   "source": [
    "**`TODO`**: Complete the `get_valid_urls` and `get_urls` functions in `scraper.py`"
   ],
   "metadata": {}
  },
  {
   "cell_type": "markdown",
   "source": [
    "## Getting article text"
   ],
   "metadata": {}
  },
  {
   "cell_type": "code",
   "execution_count": null,
   "source": [
    "response = requests.get(\"https://www.bbc.com/pidgin/sport-58110814\")"
   ],
   "outputs": [],
   "metadata": {}
  },
  {
   "cell_type": "code",
   "execution_count": null,
   "source": [
    "page_html = response.text\r\n",
    "page_soup = # TODO: Create a BeautifulSoup object from `page_html`"
   ],
   "outputs": [],
   "metadata": {}
  },
  {
   "cell_type": "markdown",
   "source": [
    "Text on websites are frequently embedded within one or more `div` elements. Open up the article we requested above in your browser.`Inspect` any paragraph from the article. What do you notice about the `div` elements? What is the value of their `class` attribute?"
   ],
   "metadata": {}
  },
  {
   "cell_type": "code",
   "execution_count": null,
   "source": [
    "story_div = page_soup.find_all(\r\n",
    "        \"div\", attrs={\"class\": \"bbc-19j92fr e57qer20\"}\r\n",
    "        )"
   ],
   "outputs": [],
   "metadata": {}
  },
  {
   "cell_type": "code",
   "execution_count": null,
   "source": [
    "story_div"
   ],
   "outputs": [],
   "metadata": {}
  },
  {
   "cell_type": "markdown",
   "source": [
    "Inside `div` elements, text is usually written in `p` elements. BeautifulSoup allows us to search the `div` element we retrieved above for elements it contains. "
   ],
   "metadata": {}
  },
  {
   "cell_type": "code",
   "execution_count": null,
   "source": [
    "p_elements = [div.findAll(\"p\") for div in story_div]\r\n",
    "p_elements"
   ],
   "outputs": [],
   "metadata": {}
  },
  {
   "cell_type": "code",
   "execution_count": null,
   "source": [
    "p_elements[0]"
   ],
   "outputs": [],
   "metadata": {}
  },
  {
   "cell_type": "code",
   "execution_count": null,
   "source": [
    "p_elements[0][0]"
   ],
   "outputs": [],
   "metadata": {}
  },
  {
   "cell_type": "code",
   "execution_count": null,
   "source": [
    "p_elements[0][0].text"
   ],
   "outputs": [],
   "metadata": {}
  },
  {
   "cell_type": "markdown",
   "source": [
    "**`TODO`**: Complete the `get_article_data` and `scrape` functions in `scraper.py`. "
   ],
   "metadata": {}
  },
  {
   "cell_type": "markdown",
   "source": [
    "**`TODO`**: Complete the `get_parser` function in `scraper.py`"
   ],
   "metadata": {}
  }
 ],
 "metadata": {
  "kernelspec": {
   "name": "python3",
   "display_name": "Python 3.9.2 64-bit ('webscraping_and_data_labelling-mY7GX9EY': pipenv)"
  },
  "language_info": {
   "codemirror_mode": {
    "name": "ipython",
    "version": 3
   },
   "file_extension": ".py",
   "mimetype": "text/x-python",
   "name": "python",
   "nbconvert_exporter": "python",
   "pygments_lexer": "ipython3",
   "version": "3.9.2"
  },
  "interpreter": {
   "hash": "c2285d02605903d5f6d072046215f63ff39b6124efff539f45ef2a2024860e3a"
  }
 },
 "nbformat": 4,
 "nbformat_minor": 1
}