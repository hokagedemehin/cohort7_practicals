{
 "cells": [
  {
   "cell_type": "code",
   "execution_count": 260,
   "metadata": {},
   "outputs": [],
   "source": [
    "import argparse\n",
    "import csv\n",
    "import itertools\n",
    "import logging\n",
    "import time\n",
    "\n",
    "import requests\n",
    "import yaml\n",
    "from bs4 import BeautifulSoup\n",
    "\n",
    "logging.root.setLevel(logging.INFO)"
   ]
  },
  {
   "cell_type": "code",
   "execution_count": 262,
   "metadata": {},
   "outputs": [
    {
     "name": "stdout",
     "output_type": "stream",
     "text": [
      "{'ARTICLE_COUNT_SPAN': 'lx-pagination__page-number qa-pagination-total-page-number', 'HEADLINE_SPAN_CLASS_A': 'bbc-13dm3d0 e1yj3cbb0', 'HEADLINE_SPAN_CLASS_B': None, 'STORY_DIV_CLASS': 'bbc-19j92fr e57qer20', 'CATEGORY_URLS': {'MOST_POPULAR': 'https://www.bbc.com/pidgin/popular/read', 'NIGERIA': 'https://www.bbc.com/pidgin/topics/c2dwqd1zr92t', 'AFRICA': 'https://www.bbc.com/pidgin/topics/c404v061z85t', 'WORLD': 'https://www.bbc.com/pidgin/topics/c0823e52dd0t', 'SPORT': 'https://www.bbc.com/pidgin/topics/cjgn7gv77vrt', 'ENTERTAINMENT': 'https://www.bbc.com/pidgin/topics/cqywjyzk2vyt'}}\n"
     ]
    }
   ],
   "source": [
    "with open('env.yml', 'r') as stream:\n",
    "    ENV = yaml.safe_load(stream)\n",
    "print(ENV)"
   ]
  },
  {
   "cell_type": "code",
   "execution_count": 263,
   "metadata": {},
   "outputs": [
    {
     "data": {
      "text/plain": [
       "{'MOST_POPULAR': 'https://www.bbc.com/pidgin/popular/read',\n",
       " 'NIGERIA': 'https://www.bbc.com/pidgin/topics/c2dwqd1zr92t',\n",
       " 'AFRICA': 'https://www.bbc.com/pidgin/topics/c404v061z85t',\n",
       " 'WORLD': 'https://www.bbc.com/pidgin/topics/c0823e52dd0t',\n",
       " 'SPORT': 'https://www.bbc.com/pidgin/topics/cjgn7gv77vrt',\n",
       " 'ENTERTAINMENT': 'https://www.bbc.com/pidgin/topics/cqywjyzk2vyt'}"
      ]
     },
     "execution_count": 263,
     "metadata": {},
     "output_type": "execute_result"
    }
   ],
   "source": [
    "ENV['CATEGORY_URLS']"
   ]
  },
  {
   "cell_type": "code",
   "execution_count": null,
   "metadata": {},
   "outputs": [],
   "source": [
    "aa = list(ENV['CATEGORY_URLS'].keys())\n",
    "str(aa).upper().split(\",\")\n"
   ]
  },
  {
   "cell_type": "code",
   "execution_count": 268,
   "metadata": {},
   "outputs": [],
   "source": [
    "ALL_CATEGORIES = ENV[\"CATEGORY_URLS\"] "
   ]
  },
  {
   "cell_type": "code",
   "execution_count": 264,
   "metadata": {},
   "outputs": [
    {
     "data": {
      "text/plain": [
       "dict_items([('NIGERIA', 'https://www.bbc.com/pidgin/topics/c2dwqd1zr92t'), ('AFRICA', 'https://www.bbc.com/pidgin/topics/c404v061z85t'), ('WORLD', 'https://www.bbc.com/pidgin/topics/c0823e52dd0t'), ('VIDEO', 'https://www.bbc.com/pidgin/media/video'), ('SPORT', 'https://www.bbc.com/pidgin/topics/cjgn7gv77vrt'), ('ENTERTAINMENT', 'https://www.bbc.com/pidgin/topics/cqywjyzk2vyt')])"
      ]
     },
     "execution_count": 264,
     "metadata": {},
     "output_type": "execute_result"
    }
   ],
   "source": [
    "ALL_CATEGORIES.items()"
   ]
  },
  {
   "cell_type": "code",
   "execution_count": 207,
   "metadata": {},
   "outputs": [
    {
     "name": "stdout",
     "output_type": "stream",
     "text": [
      "['https://www.bbc.com/pidgin/popular/read']\n",
      "https://www.bbc.com/pidgin/popular/read\n",
      "['https://www.bbc.com/pidgin/topics/c2dwqd1zr92t']\n",
      "https://www.bbc.com/pidgin/topics/c2dwqd1zr92t\n",
      "['https://www.bbc.com/pidgin/topics/c404v061z85t']\n",
      "https://www.bbc.com/pidgin/topics/c404v061z85t\n",
      "['https://www.bbc.com/pidgin/topics/c0823e52dd0t']\n",
      "https://www.bbc.com/pidgin/topics/c0823e52dd0t\n",
      "['https://www.bbc.com/pidgin/media/video']\n",
      "https://www.bbc.com/pidgin/media/video\n",
      "['https://www.bbc.com/pidgin/topics/cjgn7gv77vrt']\n",
      "https://www.bbc.com/pidgin/topics/cjgn7gv77vrt\n",
      "['https://www.bbc.com/pidgin/topics/cqywjyzk2vyt']\n",
      "https://www.bbc.com/pidgin/topics/cqywjyzk2vyt\n"
     ]
    }
   ],
   "source": [
    "for category, urls in ALL_CATEGORIES.items():\n",
    "  # urls = str(urls.split(\" \"))\n",
    "  print(list(urls.split(\" \")))\n",
    "  print(urls)\n",
    "  # for url in urls:\n",
    "  #   print(url)"
   ]
  },
  {
   "cell_type": "code",
   "execution_count": 265,
   "metadata": {},
   "outputs": [],
   "source": [
    "def get_parser() -> argparse.ArgumentParser:\n",
    "    \"\"\"\n",
    "    parse command line arguments\n",
    "\n",
    "    returns:\n",
    "        parser - ArgumentParser object\n",
    "    \"\"\"\n",
    "    parser = argparse.ArgumentParser(description=\"BBC Pidgin Scraper\")\n",
    "    parser.add_argument(\n",
    "        \"--output_file_name\",\n",
    "        type=str,\n",
    "        default=\"bbc_pidgin_corpus.csv\",\n",
    "        help=\"Name of output file\",\n",
    "    )\n",
    "    parser.add_argument(\n",
    "        \"--categories\",\n",
    "        type=list,\n",
    "        default=list(ENV['CATEGORY_URLS'].keys()),\n",
    "        help=\"This is a list of keys of the categories\"\n",
    "    )\n",
    "    parser.add_argument(\n",
    "        \"--time_delay\",\n",
    "        # type=bool,\n",
    "        # action=\"store_false\",\n",
    "        default=True,\n",
    "        help=\"Time delay is set to true by default\"\n",
    "    )\n",
    "    parser.add_argument(\n",
    "        \"--no_of_articles\",\n",
    "        type=int,\n",
    "        default=10,\n",
    "        help=\"This is the number of articles\"\n",
    "    )\n",
    "    # TODO: Add your other command line arguments!\n",
    "    #   Be sure to include their types & any default values.\n",
    "    return parser"
   ]
  },
  {
   "cell_type": "code",
   "execution_count": 266,
   "metadata": {},
   "outputs": [
    {
     "name": "stdout",
     "output_type": "stream",
     "text": [
      "Namespace(output_file_name='bbc_pidgin_corpus.csv', categories=['MOST_POPULAR', 'NIGERIA', 'AFRICA', 'WORLD', 'SPORT', 'ENTERTAINMENT'], time_delay=True, no_of_articles=10)\n"
     ]
    }
   ],
   "source": [
    "parser = get_parser()\n",
    "params, unknown = parser.parse_known_args()\n",
    "print(params)"
   ]
  },
  {
   "cell_type": "code",
   "execution_count": 72,
   "metadata": {},
   "outputs": [
    {
     "data": {
      "text/plain": [
       "['DEMEHIN', ' IBUKUN']"
      ]
     },
     "execution_count": 72,
     "metadata": {},
     "output_type": "execute_result"
    }
   ],
   "source": [
    "val = \"Demehin, Ibukun\"\n",
    "val.upper().split(\",\")"
   ]
  },
  {
   "cell_type": "code",
   "execution_count": null,
   "metadata": {},
   "outputs": [],
   "source": [
    "categories = params.categories.upper().split(\",\")\n",
    "print(categories)"
   ]
  },
  {
   "cell_type": "code",
   "execution_count": null,
   "metadata": {},
   "outputs": [],
   "source": [
    "if params.categories != \"all\":\n",
    "    categories = params.categories.upper().split(\",\")\n",
    "    categories = {category: ALL_CATEGORIES[category] for category in categories}\n",
    "else:\n",
    "    categories = ALL_CATEGORIES"
   ]
  },
  {
   "cell_type": "code",
   "execution_count": 269,
   "metadata": {},
   "outputs": [
    {
     "name": "stdout",
     "output_type": "stream",
     "text": [
      "{'MOST_POPULAR': 'https://www.bbc.com/pidgin/popular/read', 'NIGERIA': 'https://www.bbc.com/pidgin/topics/c2dwqd1zr92t', 'AFRICA': 'https://www.bbc.com/pidgin/topics/c404v061z85t', 'WORLD': 'https://www.bbc.com/pidgin/topics/c0823e52dd0t', 'SPORT': 'https://www.bbc.com/pidgin/topics/cjgn7gv77vrt', 'ENTERTAINMENT': 'https://www.bbc.com/pidgin/topics/cqywjyzk2vyt'}\n"
     ]
    }
   ],
   "source": [
    "if params.categories:\n",
    "    categories = params.categories\n",
    "    categories = {category: ALL_CATEGORIES[category] for category in categories}\n",
    "else:\n",
    "    categories = ALL_CATEGORIES\n",
    "print(categories)"
   ]
  },
  {
   "cell_type": "code",
   "execution_count": 224,
   "metadata": {},
   "outputs": [
    {
     "name": "stdout",
     "output_type": "stream",
     "text": [
      "https://www.bbc.com/pidgin/topics/cjgn7gv77vrt\n"
     ]
    }
   ],
   "source": [
    "for category, urls in categories.items():\n",
    "  print(urls)\n",
    "  # for url in urls:\n",
    "  #   print(url)"
   ]
  },
  {
   "cell_type": "code",
   "execution_count": 270,
   "metadata": {},
   "outputs": [],
   "source": [
    "def get_page_soup(url: str): # ENV['CATEGORY_URLS']['NIGERIA']\n",
    "    \"\"\"\n",
    "    Makes a request to a url and creates a beautiful soup object from the response html\n",
    "\n",
    "    input:\n",
    "        :param url: input page url\n",
    "    returns:\n",
    "        - page_soup: beautiful soup object from the response html\n",
    "    \"\"\"\n",
    "\n",
    "    response = requests.get(url)\n",
    "    page_soup = BeautifulSoup(response.text, \"html.parser\")\n",
    "    # TODO: Complete the function to parse and return the page\n",
    "    return page_soup"
   ]
  },
  {
   "cell_type": "code",
   "execution_count": null,
   "metadata": {},
   "outputs": [],
   "source": [
    "page_soup = get_page_soup(categories['SPORT'])\n",
    "print(page_soup)"
   ]
  },
  {
   "cell_type": "code",
   "execution_count": 271,
   "metadata": {},
   "outputs": [],
   "source": [
    "def get_valid_urls(category_page: BeautifulSoup):\n",
    "    \"\"\"\n",
    "    Gets all valid urls from a category page\n",
    "\n",
    "    input:\n",
    "        :param: url: category_page\n",
    "    returns:\n",
    "        - valid_urls: list of all valid article urls on a given category page\n",
    "    \"\"\"\n",
    "    base_url = \"https://www.bbc.com\"\n",
    "\n",
    "    all_urls = category_page.findAll(\"a\")\n",
    "    valid_article_urls = []\n",
    "    for url in all_urls:\n",
    "        \n",
    "        href = url.get(\"href\")\n",
    "        if (href.startswith(\"/pidgin/tori\") or \\\n",
    "            href.startswith(\"/pidgin/world\") or \\\n",
    "            href.startswith(\"/pidgin/sport\")):\n",
    "            complete_href = f\"{base_url}{href}\"\n",
    "            valid_article_urls.append(complete_href)\n",
    "        \n",
    "        # from a look at BBC pidgin's urls, they always begin with the following strings.\n",
    "        # so we obtain valid article urls using these strings\n",
    "    return list(set(valid_article_urls))"
   ]
  },
  {
   "cell_type": "code",
   "execution_count": 228,
   "metadata": {},
   "outputs": [
    {
     "data": {
      "text/plain": [
       "['https://www.bbc.com/pidgin/tori-58692696',\n",
       " 'https://www.bbc.com/pidgin/sport-58681606',\n",
       " 'https://www.bbc.com/pidgin/sport-58692695',\n",
       " 'https://www.bbc.com/pidgin/sport-58744891',\n",
       " 'https://www.bbc.com/pidgin/sport-58661394',\n",
       " 'https://www.bbc.com/pidgin/sport-58722442',\n",
       " 'https://www.bbc.com/pidgin/sport-58736253',\n",
       " 'https://www.bbc.com/pidgin/sport-58697469',\n",
       " 'https://www.bbc.com/pidgin/sport-58674414',\n",
       " 'https://www.bbc.com/pidgin/sport-58750520']"
      ]
     },
     "execution_count": 228,
     "metadata": {},
     "output_type": "execute_result"
    }
   ],
   "source": [
    "get_valid_urls(page_soup)\n"
   ]
  },
  {
   "cell_type": "code",
   "execution_count": 253,
   "metadata": {},
   "outputs": [],
   "source": [
    "def get_urls(category_url: str, category: str, time_delay: bool) -> list: # CATEGORY_URLS, NIGERIA, 3000\n",
    "    \"\"\"\n",
    "    # TODO: Complete the docstring for this function\n",
    "    Get all the urls possible on each page\n",
    "    input:\n",
    "        :category_url: the list of urlobjects \n",
    "        :category: a category that we need to sort the list by \n",
    "        :time_delay: A boolean function whether to apply a time delay\n",
    "    returns:\n",
    "        - category_urls: list of all urls from the CATEGORY_URLS in the env.yml\n",
    "    \"\"\"\n",
    "    page_soup = get_page_soup(category_url)\n",
    "    category_urls = get_valid_urls(page_soup)\n",
    "\n",
    "    # get total number of pages for given category\n",
    "    article_count_span = page_soup.find_all(\n",
    "        \"span\", attrs={\"class\": \"lx-pagination__page-number qa-pagination-total-page-number\"}\n",
    "    )\n",
    "    # if there are multiple pages, get valid urls from each page\n",
    "    # else just get the articles on the first page\n",
    "    if article_count_span:\n",
    "        total_article_count = int(article_count_span[0].text)\n",
    "        logging.info(f\"{total_article_count} pages found for {category}\")\n",
    "        logging.info(f\"{len(category_urls)} urls in page 1 gotten for {category}\")\n",
    "\n",
    "        for count in range(1, total_article_count):\n",
    "            # TODO: Use your `get_page_soup` and `get_valid_urls` functions\n",
    "            #   to obtain valid urls from all pages\n",
    "            next_page = f\"{category_url}/page/{count + 1}\"\n",
    "            next_page_soup = get_page_soup(next_page)\n",
    "            next_category_urls = get_valid_urls(next_page_soup)\n",
    "            logging.info(f\"{len(next_category_urls)} urls in page {count + 1} gotten for {category}\")\n",
    "            category_urls += next_category_urls\n",
    "            if time_delay:\n",
    "                time.sleep(10)\n",
    "    else:\n",
    "        logging.info(f\"Only one page found for {category}. {len(category_urls)} urls gotten\")\n",
    "\n",
    "    return category_urls"
   ]
  },
  {
   "cell_type": "code",
   "execution_count": 272,
   "metadata": {},
   "outputs": [],
   "source": [
    "def get_urls(category_url: str, category: str, time_delay: bool) -> list: # CATEGORY_URLS, NIGERIA, 3000\n",
    "    \"\"\"\n",
    "    # TODO: Complete the docstring for this function\n",
    "    Get all the urls possible on each page\n",
    "    input:\n",
    "        :category_url: the list of urlobjects \n",
    "        :category: a category that we need to sort the list by \n",
    "        :time_delay: A boolean function whether to apply a time delay\n",
    "    returns:\n",
    "        - category_urls: list of all urls from the CATEGORY_URLS in the env.yml\n",
    "    \"\"\"\n",
    "    page_soup = get_page_soup(category_url)\n",
    "    category_urls = get_valid_urls(page_soup)\n",
    "\n",
    "    # print(category_urls)\n",
    "    # get total number of pages for given category\n",
    "    article_count_span = page_soup.find_all(\n",
    "        \"span\", attrs={\"class\": \"lx-pagination__page-number qa-pagination-total-page-number\"}\n",
    "    )\n",
    "\n",
    "    \n",
    "    # if there are multiple pages, get valid urls from each page\n",
    "    # else just get the articles on the first page\n",
    "    if article_count_span:\n",
    "        total_article_count = int(article_count_span[0].text)\n",
    "        logging.info(f\"{total_article_count} pages found for {category}\")\n",
    "        logging.info(f\"{len(category_urls)} urls in page 1 gotten for {category}\")\n",
    "    \n",
    "    \n",
    "\n",
    "        for count in range(1, 3):\n",
    "            # TODO: Use your `get_page_soup` and `get_valid_urls` functions\n",
    "            #   to obtain valid urls from all pages\n",
    "            next_page = f\"{category_url}/page/{count + 1}\"\n",
    "            next_page_soup = get_page_soup(next_page)\n",
    "            next_category_urls = get_valid_urls(next_page_soup)\n",
    "            logging.info(f\"{len(next_category_urls)} urls in page {count + 1} gotten for {category}\")\n",
    "            category_urls += next_category_urls\n",
    "            if time_delay:\n",
    "                time.sleep(10)\n",
    "    else:\n",
    "        logging.info(f\"Only one page found for {category}. {len(category_urls)} urls gotten\")\n",
    "\n",
    "    return category_urls"
   ]
  },
  {
   "cell_type": "code",
   "execution_count": 231,
   "metadata": {},
   "outputs": [
    {
     "name": "stderr",
     "output_type": "stream",
     "text": [
      "INFO:root:45 pages found for Sport\n",
      "INFO:root:10 urls in page 1 gotten for Sport\n",
      "INFO:root:9 urls in page 2 gotten for Sport\n",
      "INFO:root:10 urls in page 3 gotten for Sport\n"
     ]
    },
    {
     "data": {
      "text/plain": [
       "['https://www.bbc.com/pidgin/tori-58692696',\n",
       " 'https://www.bbc.com/pidgin/sport-58681606',\n",
       " 'https://www.bbc.com/pidgin/sport-58692695',\n",
       " 'https://www.bbc.com/pidgin/sport-58744891',\n",
       " 'https://www.bbc.com/pidgin/sport-58661394',\n",
       " 'https://www.bbc.com/pidgin/sport-58722442',\n",
       " 'https://www.bbc.com/pidgin/sport-58736253',\n",
       " 'https://www.bbc.com/pidgin/sport-58697469',\n",
       " 'https://www.bbc.com/pidgin/sport-58674414',\n",
       " 'https://www.bbc.com/pidgin/sport-58750520',\n",
       " 'https://www.bbc.com/pidgin/sport-58600151',\n",
       " 'https://www.bbc.com/pidgin/sport-58466316',\n",
       " 'https://www.bbc.com/pidgin/sport-58426989',\n",
       " 'https://www.bbc.com/pidgin/sport-58406381',\n",
       " 'https://www.bbc.com/pidgin/tori-58479296',\n",
       " 'https://www.bbc.com/pidgin/sport-58612482',\n",
       " 'https://www.bbc.com/pidgin/world-58531069',\n",
       " 'https://www.bbc.com/pidgin/tori-58519837',\n",
       " 'https://www.bbc.com/pidgin/world-58552521',\n",
       " 'https://www.bbc.com/pidgin/tori-58318077',\n",
       " 'https://www.bbc.com/pidgin/sport-58322692',\n",
       " 'https://www.bbc.com/pidgin/sport-58415337',\n",
       " 'https://www.bbc.com/pidgin/sport-58401797',\n",
       " 'https://www.bbc.com/pidgin/sport-58336076',\n",
       " 'https://www.bbc.com/pidgin/tori-58273215',\n",
       " 'https://www.bbc.com/pidgin/sport-58322936',\n",
       " 'https://www.bbc.com/pidgin/sport-58346445',\n",
       " 'https://www.bbc.com/pidgin/sport-58392913',\n",
       " 'https://www.bbc.com/pidgin/sport-58348031']"
      ]
     },
     "execution_count": 231,
     "metadata": {},
     "output_type": "execute_result"
    }
   ],
   "source": [
    "get_urls(categories['SPORT'], \"Sport\", False)"
   ]
  },
  {
   "cell_type": "code",
   "execution_count": 232,
   "metadata": {},
   "outputs": [
    {
     "name": "stderr",
     "output_type": "stream",
     "text": [
      "INFO:root:45 pages found for Sport\n",
      "INFO:root:10 urls in page 1 gotten for Sport\n",
      "INFO:root:9 urls in page 2 gotten for Sport\n",
      "INFO:root:10 urls in page 3 gotten for Sport\n"
     ]
    }
   ],
   "source": [
    "article_urls = get_urls(categories['SPORT'], \"Sport\", False)"
   ]
  },
  {
   "cell_type": "code",
   "execution_count": 273,
   "metadata": {},
   "outputs": [],
   "source": [
    "def get_article_data(article_url: str) -> tuple:\n",
    "    \"\"\"\n",
    "    Obtains paragraphs texts and headlines input url article\n",
    "\n",
    "    input:\n",
    "        :param article_url: category_page\n",
    "    returns:\n",
    "        - headline: headline of url article\n",
    "        - story_text: text of url article\n",
    "        - article_url: input article url\n",
    "    \"\"\"\n",
    "    page_soup = get_page_soup(article_url)\n",
    "    # TODO: Locate the headline element\n",
    "    headline = page_soup.find(\n",
    "        \"h1\", attrs={\"class\": ENV[\"HEADLINE_SPAN_CLASS_A\"]}\n",
    "    )\n",
    "    \n",
    "    if headline:\n",
    "        headline = headline.text\n",
    "        # TODO: Get the headline text from the element\n",
    "    # return headline\n",
    "\n",
    "    story_text = \" \"\n",
    "    story_div = page_soup.findAll(\"div\", attrs={\"class\": ENV[\"STORY_DIV_CLASS\"]})    # TODO: Locate all story divs\n",
    "    if story_div:\n",
    "        all_paragraphs = [div.findAll(\"p\", recursive=False) for div in story_div]\n",
    "        all_paragraphs = list(itertools.chain(*all_paragraphs))\n",
    "        story_text = story_text.join(str(paragraph) for paragraph in all_paragraphs)\n",
    "        story_text = BeautifulSoup(story_text, \"html.parser\").get_text()\n",
    "    story_text = story_text if not story_text == \" \" else None\n",
    "\n",
    "    return headline, story_text, article_url"
   ]
  },
  {
   "cell_type": "code",
   "execution_count": 234,
   "metadata": {},
   "outputs": [
    {
     "data": {
      "text/plain": [
       "('Chelsea vs Man City: Gabriel Jesus goal end Chelsea unbeaten start to Premier League season',\n",
       " 'Gabriel Jesus second half goal help Manchester City defeat Chelsea 1-0 for dia own backyard. With two strikers on di pitch, Chelsea struggle to create chances as City end dia unbeaten start to di 2021/2022 Premier League season. Jesus deflected shot for di 53rd minute break di Chelsea defence wey don look solid dis season. Jesus almost score second goal wen Thiago Silva clear im effort off di line while Aymeric Laporte for score but im somehow slide e shot wide from inside di six-yard box. Mendy also produce two crucial saves from di excellent Jack Grealish. Before di game, Pep Guardiola bin don lose di last three matches wey im don play against Thomas Tuchel Chelsea including last season Champions League final. Now, Guardiola and im boys don get di better of Chelsea as dem dominate di Blues for Stamford Bridge. More dey come.',\n",
       " 'https://www.bbc.com/pidgin/sport-58692695')"
      ]
     },
     "execution_count": 234,
     "metadata": {},
     "output_type": "execute_result"
    }
   ],
   "source": [
    "get_article_data(article_urls[2])"
   ]
  },
  {
   "cell_type": "code",
   "execution_count": 274,
   "metadata": {},
   "outputs": [],
   "source": [
    "def scrape(output_file_name: str, no_of_articles: int, category_urls: dict, time_delay: bool) -> None:\n",
    "    \"\"\"\n",
    "    (params.output_file_name, 100, ALL_CATEGORIES, False)\n",
    "\n",
    "    Main function for scraping and writing articles to file\n",
    "\n",
    "    input:\n",
    "        :param output_file_name: file name where output is saved\n",
    "        :param no_of_articles: number of user specified articles to scrape\n",
    "        :param category_urls: all articles in a category\n",
    "    \"\"\"\n",
    "    logging.info(\"Writing articles to file...\")\n",
    "\n",
    "    with open(output_file_name, \"w\", encoding='utf-8') as csv_file:\n",
    "        fieldnames = ['Headline', 'Paragraph', \"URL\"]\n",
    "        writer = csv.DictWriter(csv_file, fieldnames=fieldnames)\n",
    "\n",
    "        writer.writeheader()\n",
    "        # TODO: Initialize a csv.DictWriter object\n",
    "        #   Write the headers your CSV file will take\n",
    "        story_num = 0\n",
    "\n",
    "        for category, urls in category_urls.items():\n",
    "            # print(category)\n",
    "            logging.info(f\"Writing articles for {category} category...\")\n",
    "            for Url in urls:\n",
    "                # TODO: Get the headline, paragraphs and url using your `get_article_data` func\n",
    "                headline, paragraphs, url = get_article_data(Url)\n",
    "                # print(headline)\n",
    "                if paragraphs:\n",
    "                    # TODO: Write all the data to CSV\n",
    "                    writer.writerow({'Headline': headline, 'Paragraph': paragraphs, 'URL': url})\n",
    "                    story_num += 1\n",
    "                    logging.info(f\"Successfully wrote story number {story_num}\")\n",
    "\n",
    "                if story_num == no_of_articles:\n",
    "                    logging.info(\n",
    "                        f\"Requested total number of articles {no_of_articles} reached\"\n",
    "                    )\n",
    "                    logging.info(\n",
    "                        f\"Scraping done. A total of {no_of_articles} articles were scraped!\"\n",
    "                    )\n",
    "                    return\n",
    "                if time_delay:\n",
    "                    time.sleep(10)\n",
    "    logging.info(\n",
    "        f\"Scraping done. A total of {story_num} articles were scraped!\"\n",
    "    )"
   ]
  },
  {
   "cell_type": "code",
   "execution_count": 275,
   "metadata": {},
   "outputs": [
    {
     "name": "stderr",
     "output_type": "stream",
     "text": [
      "INFO:root:Getting all stories for MOST_POPULAR...\n",
      "INFO:root:Only one page found for MOST_POPULAR. 9 urls gotten\n",
      "INFO:root:9 stories found for MOST_POPULAR category\n",
      "INFO:root:Getting all stories for NIGERIA...\n",
      "INFO:root:100 pages found for NIGERIA\n",
      "INFO:root:9 urls in page 1 gotten for NIGERIA\n",
      "INFO:root:10 urls in page 2 gotten for NIGERIA\n",
      "INFO:root:8 urls in page 3 gotten for NIGERIA\n",
      "INFO:root:27 stories found for NIGERIA category\n",
      "INFO:root:Getting all stories for AFRICA...\n",
      "INFO:root:91 pages found for AFRICA\n",
      "INFO:root:8 urls in page 1 gotten for AFRICA\n",
      "INFO:root:10 urls in page 2 gotten for AFRICA\n",
      "INFO:root:10 urls in page 3 gotten for AFRICA\n",
      "INFO:root:28 stories found for AFRICA category\n",
      "INFO:root:Getting all stories for WORLD...\n",
      "INFO:root:100 pages found for WORLD\n",
      "INFO:root:8 urls in page 1 gotten for WORLD\n",
      "INFO:root:10 urls in page 2 gotten for WORLD\n",
      "INFO:root:9 urls in page 3 gotten for WORLD\n",
      "INFO:root:27 stories found for WORLD category\n",
      "INFO:root:Getting all stories for SPORT...\n",
      "INFO:root:45 pages found for SPORT\n",
      "INFO:root:10 urls in page 1 gotten for SPORT\n",
      "INFO:root:9 urls in page 2 gotten for SPORT\n",
      "INFO:root:10 urls in page 3 gotten for SPORT\n",
      "INFO:root:29 stories found for SPORT category\n",
      "INFO:root:Getting all stories for ENTERTAINMENT...\n",
      "INFO:root:84 pages found for ENTERTAINMENT\n",
      "INFO:root:10 urls in page 1 gotten for ENTERTAINMENT\n",
      "INFO:root:7 urls in page 2 gotten for ENTERTAINMENT\n",
      "INFO:root:10 urls in page 3 gotten for ENTERTAINMENT\n",
      "INFO:root:27 stories found for ENTERTAINMENT category\n"
     ]
    }
   ],
   "source": [
    "category_urls = {}\n",
    "for category, url in categories.items():\n",
    "    logging.info(f\"Getting all stories for {category}...\")\n",
    "    category_story_links = get_urls(url, category, params.time_delay)\n",
    "    logging.info(f\"{len(category_story_links)} stories found for {category} category\")\n",
    "    category_urls[category] = category_story_links"
   ]
  },
  {
   "cell_type": "code",
   "execution_count": 276,
   "metadata": {},
   "outputs": [
    {
     "name": "stderr",
     "output_type": "stream",
     "text": [
      "INFO:root:Writing articles to file...\n",
      "INFO:root:Writing articles for MOST_POPULAR category...\n",
      "INFO:root:Successfully wrote story number 1\n",
      "INFO:root:Successfully wrote story number 2\n",
      "INFO:root:Successfully wrote story number 3\n",
      "INFO:root:Successfully wrote story number 4\n",
      "INFO:root:Successfully wrote story number 5\n",
      "INFO:root:Successfully wrote story number 6\n",
      "INFO:root:Successfully wrote story number 7\n",
      "INFO:root:Successfully wrote story number 8\n",
      "INFO:root:Successfully wrote story number 9\n",
      "INFO:root:Writing articles for NIGERIA category...\n",
      "INFO:root:Successfully wrote story number 10\n",
      "INFO:root:Successfully wrote story number 11\n",
      "INFO:root:Successfully wrote story number 12\n",
      "INFO:root:Successfully wrote story number 13\n",
      "INFO:root:Successfully wrote story number 14\n",
      "INFO:root:Successfully wrote story number 15\n",
      "INFO:root:Successfully wrote story number 16\n",
      "INFO:root:Successfully wrote story number 17\n",
      "INFO:root:Successfully wrote story number 18\n",
      "INFO:root:Successfully wrote story number 19\n",
      "INFO:root:Successfully wrote story number 20\n",
      "INFO:root:Successfully wrote story number 21\n",
      "INFO:root:Successfully wrote story number 22\n",
      "INFO:root:Successfully wrote story number 23\n",
      "INFO:root:Successfully wrote story number 24\n",
      "INFO:root:Successfully wrote story number 25\n",
      "INFO:root:Successfully wrote story number 26\n",
      "INFO:root:Successfully wrote story number 27\n",
      "INFO:root:Successfully wrote story number 28\n",
      "INFO:root:Successfully wrote story number 29\n",
      "INFO:root:Successfully wrote story number 30\n",
      "INFO:root:Successfully wrote story number 31\n",
      "INFO:root:Successfully wrote story number 32\n",
      "INFO:root:Successfully wrote story number 33\n",
      "INFO:root:Successfully wrote story number 34\n",
      "INFO:root:Successfully wrote story number 35\n",
      "INFO:root:Successfully wrote story number 36\n",
      "INFO:root:Writing articles for AFRICA category...\n",
      "INFO:root:Successfully wrote story number 37\n",
      "INFO:root:Successfully wrote story number 38\n",
      "INFO:root:Successfully wrote story number 39\n",
      "INFO:root:Successfully wrote story number 40\n",
      "INFO:root:Successfully wrote story number 41\n",
      "INFO:root:Successfully wrote story number 42\n",
      "INFO:root:Successfully wrote story number 43\n",
      "INFO:root:Successfully wrote story number 44\n",
      "INFO:root:Successfully wrote story number 45\n",
      "INFO:root:Successfully wrote story number 46\n",
      "INFO:root:Successfully wrote story number 47\n",
      "INFO:root:Successfully wrote story number 48\n",
      "INFO:root:Successfully wrote story number 49\n",
      "INFO:root:Successfully wrote story number 50\n",
      "INFO:root:Successfully wrote story number 51\n",
      "INFO:root:Successfully wrote story number 52\n",
      "INFO:root:Successfully wrote story number 53\n",
      "INFO:root:Successfully wrote story number 54\n",
      "INFO:root:Successfully wrote story number 55\n",
      "INFO:root:Successfully wrote story number 56\n",
      "INFO:root:Successfully wrote story number 57\n",
      "INFO:root:Successfully wrote story number 58\n",
      "INFO:root:Successfully wrote story number 59\n",
      "INFO:root:Successfully wrote story number 60\n",
      "INFO:root:Successfully wrote story number 61\n",
      "INFO:root:Successfully wrote story number 62\n",
      "INFO:root:Successfully wrote story number 63\n",
      "INFO:root:Successfully wrote story number 64\n",
      "INFO:root:Writing articles for WORLD category...\n",
      "INFO:root:Successfully wrote story number 65\n",
      "INFO:root:Successfully wrote story number 66\n",
      "INFO:root:Successfully wrote story number 67\n",
      "INFO:root:Successfully wrote story number 68\n",
      "INFO:root:Successfully wrote story number 69\n",
      "INFO:root:Successfully wrote story number 70\n",
      "INFO:root:Successfully wrote story number 71\n",
      "INFO:root:Successfully wrote story number 72\n",
      "INFO:root:Successfully wrote story number 73\n",
      "INFO:root:Successfully wrote story number 74\n",
      "INFO:root:Successfully wrote story number 75\n",
      "INFO:root:Successfully wrote story number 76\n",
      "INFO:root:Successfully wrote story number 77\n",
      "INFO:root:Successfully wrote story number 78\n",
      "INFO:root:Successfully wrote story number 79\n",
      "INFO:root:Successfully wrote story number 80\n",
      "INFO:root:Successfully wrote story number 81\n",
      "INFO:root:Successfully wrote story number 82\n",
      "INFO:root:Successfully wrote story number 83\n",
      "INFO:root:Successfully wrote story number 84\n",
      "INFO:root:Successfully wrote story number 85\n",
      "INFO:root:Successfully wrote story number 86\n",
      "INFO:root:Successfully wrote story number 87\n",
      "INFO:root:Successfully wrote story number 88\n",
      "INFO:root:Successfully wrote story number 89\n",
      "INFO:root:Successfully wrote story number 90\n",
      "INFO:root:Successfully wrote story number 91\n",
      "INFO:root:Writing articles for SPORT category...\n",
      "INFO:root:Successfully wrote story number 92\n",
      "INFO:root:Successfully wrote story number 93\n",
      "INFO:root:Successfully wrote story number 94\n",
      "INFO:root:Successfully wrote story number 95\n",
      "INFO:root:Successfully wrote story number 96\n",
      "INFO:root:Successfully wrote story number 97\n",
      "INFO:root:Successfully wrote story number 98\n",
      "INFO:root:Successfully wrote story number 99\n",
      "INFO:root:Successfully wrote story number 100\n",
      "INFO:root:Requested total number of articles 100 reached\n",
      "INFO:root:Scraping done. A total of 100 articles were scraped!\n"
     ]
    }
   ],
   "source": [
    "scrape(params.output_file_name,100,category_urls,False)"
   ]
  },
  {
   "cell_type": "code",
   "execution_count": null,
   "metadata": {},
   "outputs": [],
   "source": []
  },
  {
   "cell_type": "code",
   "execution_count": null,
   "metadata": {},
   "outputs": [],
   "source": []
  }
 ],
 "metadata": {
  "interpreter": {
   "hash": "c2285d02605903d5f6d072046215f63ff39b6124efff539f45ef2a2024860e3a"
  },
  "kernelspec": {
   "display_name": "Python 3.9.2 64-bit ('webscraping_and_data_labelling-mY7GX9EY': pipenv)",
   "name": "python3"
  },
  "language_info": {
   "codemirror_mode": {
    "name": "ipython",
    "version": 3
   },
   "file_extension": ".py",
   "mimetype": "text/x-python",
   "name": "python",
   "nbconvert_exporter": "python",
   "pygments_lexer": "ipython3",
   "version": "3.9.2"
  },
  "orig_nbformat": 4
 },
 "nbformat": 4,
 "nbformat_minor": 2
}
